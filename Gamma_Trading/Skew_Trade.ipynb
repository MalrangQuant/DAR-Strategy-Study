{
 "cells": [
  {
   "cell_type": "code",
   "execution_count": 1,
   "metadata": {},
   "outputs": [],
   "source": [
    "import os\n",
    "import numpy as np\n",
    "import pandas as pd\n",
    "import datetime as dt\n",
    "import calendar\n",
    "import scipy.stats as stats\n",
    "import matplotlib.pyplot as plt\n",
    "\n",
    "from tqdm import tqdm\n",
    "from numpy.lib.stride_tricks import sliding_window_view\n",
    "from scipy.stats import norm\n",
    "from dateutil import relativedelta\n",
    "from pykrx import stock\n",
    "from warnings import filterwarnings\n",
    "filterwarnings('ignore')\n",
    "\n",
    "c = calendar.Calendar(firstweekday=calendar.SUNDAY)\n",
    "\n",
    "def ch (name):\n",
    "    cptype = name[7:8]\n",
    "    maturity = name[9:15]\n",
    "    strike = name[16:]\n",
    "\n",
    "    return cptype+maturity+strike\n",
    "\n",
    "def gamma (option_type, S, K, r, T, sigma):\n",
    "\n",
    "    d1 = (np.log(S/K) + (r + 0.5 * (sigma ** 2)) * T ) / (sigma * np.sqrt(T))\n",
    "\n",
    "    return stats.norm.pdf(d1) / (sigma * S * np.sqrt(T))\n",
    "\n",
    "# def new_next_exp(today):\n",
    "\n",
    "#     today = dt.datetime.strptime(today, '%Y-%m-%d')\n",
    "\n",
    "#     next_mon = today + relativedelta.relativedelta(months=1)\n",
    "#     nnext_mon = next_mon + relativedelta.relativedelta(months=1)\n",
    "\n",
    "#     if today.day < 15:\n",
    "#         result = next_mon\n",
    "#     else:\n",
    "#         result = nnext_mon\n",
    "        \n",
    "#     return result.strftime(\"%Y%m\")\n",
    "\n",
    "def next_opt_exp(today):\n",
    "\n",
    "    year = today.year\n",
    "    month = today.month\n",
    "    monthcal = c.monthdatescalendar(year,month)\n",
    "    second_thursday = [day for week in monthcal for day in week if \\\n",
    "                day.weekday() == calendar.THURSDAY and \\\n",
    "                day.month == month][1]\n",
    "\n",
    "    if today.day<second_thursday.day:\n",
    "        result= second_thursday\n",
    "    else:\n",
    "        result=second_thursday+ relativedelta.relativedelta(months=1)\n",
    "\n",
    "    return result.strftime(\"%Y%m\")\n",
    "\n",
    "def option_date_creator (week, date):\n",
    "    '''마지막 만기 거래일이 나옴'''\n",
    "    date = new_next_exp(date)\n",
    "    base_date = dt.datetime.strptime(date, '%Y%m')\n",
    "    option_date = base_date + relativedelta.relativedelta(weekday=3) + dt.timedelta(weeks=week)\n",
    "    option_date = option_date.strftime('%Y-%m-%d')\n",
    "\n",
    "    return option_date\n",
    "\n",
    "def tau_creator (today, date):\n",
    "    \n",
    "    today = dt.datetime.strptime(today, '%Y-%m-%d')\n",
    "    date = dt.datetime.strptime(date, '%Y-%m-%d')\n",
    "    \n",
    "    return (date - today).days/252\n",
    "\n",
    "def tau_arr_creator (today, date):\n",
    "\n",
    "    days = tau_creator(today, date) * 252\n",
    "    \n",
    "    return (np.flip(np.arange(0, days+1)) * 1/252).reshape(-1,1)\n",
    "\n",
    "def delta_cal (s, k, r, q, vol, t):\n",
    "\n",
    "    def d1_cal (s, k, r, q, vol, t):\n",
    "        return (np.log(s/k) +((r-q+0.5*np.power(vol, 2))*t))/(vol*np.sqrt(t))\n",
    "        \n",
    "    return norm.cdf(d1_cal(s, k, r, q, vol, t))\n",
    "\n",
    "def atm_mapping (df, s0):\n",
    "    '''Option MultiIndex df with spot price'''\n",
    "    k_arr = df.columns.get_level_values(2).unique().to_numpy().astype(float)\n",
    "    atm_k = k_arr[np.where((s0 - k_arr)>0)][-1]\n",
    "\n",
    "    return atm_k\n",
    "\n",
    "def otm_mapping (df, s0, mul):\n",
    "\n",
    "    k_arr = df.columns.get_level_values(2).unique().to_numpy().astype(float)\n",
    "    otm_k = k_arr[np.where((s0 * (1 + mul) - k_arr)>0)][-1]\n",
    "\n",
    "    return otm_k\n",
    "\n",
    "def d1_cal (s, k, r, q, vol, t):\n",
    "    return (np.log(s/k) +((r-q+0.5*np.power(vol, 2))*t))/(vol*np.sqrt(t))\n",
    "\n",
    "def d2_cal (s, k, r, q, vol, t):\n",
    "    return d1_cal(s, k, r, q, vol, t) - vol * np.sqrt(t)    \n",
    "\n",
    "def gamma_cal (s, k, r, q, vol, t):\n",
    "    \n",
    "    return norm.pdf(d1_cal(s, k, r, q, vol, t)) / (s*vol*np.sqrt(t))\n",
    "\n",
    "def theta_cal (s, k, r, q, vol, t, type='c'):\n",
    "    '''type is binary \"c\" or \"p\"'''\n",
    "\n",
    "    p1 = - s * norm.pdf(d1_cal(s, k, r, q, vol, t))*vol / (2 * np.sqrt(t))\n",
    "    p2 = r * k * np.exp(-r*t) * norm.cdf(d2_cal(s, k, r, q, vol, t)) \n",
    "\n",
    "    if type == 'c':\n",
    "        return p1 - p2\n",
    "    else:\n",
    "        return p1 + p2\n",
    "    \n",
    "def vega_cal (s, k, r, q, vol, t):\n",
    "    return s * np.sqrt(t) * norm.pdf(d1_cal(s,k,r,q,vol,t))\n",
    "\n",
    "def rho_cal (s, k, r, q, vol, t, type='c'):\n",
    "    '''type is binary \"c\" or \"p\"'''\n",
    "    if type =='c':\n",
    "        return k*t*np.exp(-r*t)*norm.cdf(d2_cal(s, k, r, q, vol, t))\n",
    "    else:\n",
    "        return -k*t*np.exp(-r*t)*norm.cdf(-d2_cal(s, k, r, q, vol, t))\n",
    "    \n",
    "def tmp_dist(price_lst,strike_lst):\n",
    "    \n",
    "    window_price = sliding_window_view(price_lst, 3)\n",
    "    window_strike = sliding_window_view(strike_lst, 3)\n",
    "    distance = (abs(window_strike[:,2]-window_strike[:,1])+abs(window_strike[:,1]-window_strike[:,0]))/2\n",
    "    result=window_price[:,0]+window_price[:,2]-2*window_price[:,1]\n",
    "    return np.round(((result/(distance**2))), 5)\n",
    "\n",
    "def cal_cost(df):\n",
    "    return df.iloc[0].item() + df.iloc[2].item() - 2 * df.iloc[1].item()"
   ]
  },
  {
   "attachments": {},
   "cell_type": "markdown",
   "metadata": {},
   "source": [
    "# 전처리"
   ]
  },
  {
   "cell_type": "code",
   "execution_count": 2,
   "metadata": {},
   "outputs": [
    {
     "data": {
      "text/html": [
       "<div>\n",
       "<style scoped>\n",
       "    .dataframe tbody tr th:only-of-type {\n",
       "        vertical-align: middle;\n",
       "    }\n",
       "\n",
       "    .dataframe tbody tr th {\n",
       "        vertical-align: top;\n",
       "    }\n",
       "\n",
       "    .dataframe thead tr th {\n",
       "        text-align: left;\n",
       "    }\n",
       "\n",
       "    .dataframe thead tr:last-of-type th {\n",
       "        text-align: right;\n",
       "    }\n",
       "</style>\n",
       "<table border=\"1\" class=\"dataframe\">\n",
       "  <thead>\n",
       "    <tr>\n",
       "      <th>cpflag</th>\n",
       "      <th colspan=\"10\" halign=\"left\">C</th>\n",
       "      <th>...</th>\n",
       "      <th colspan=\"10\" halign=\"left\">P</th>\n",
       "    </tr>\n",
       "    <tr>\n",
       "      <th>tick</th>\n",
       "      <th colspan=\"10\" halign=\"left\">200709</th>\n",
       "      <th>...</th>\n",
       "      <th colspan=\"10\" halign=\"left\">202211</th>\n",
       "    </tr>\n",
       "    <tr>\n",
       "      <th>strike</th>\n",
       "      <th>165.0</th>\n",
       "      <th>167.5</th>\n",
       "      <th>170.0</th>\n",
       "      <th>172.5</th>\n",
       "      <th>175.0</th>\n",
       "      <th>177.5</th>\n",
       "      <th>180.0</th>\n",
       "      <th>182.5</th>\n",
       "      <th>185.0</th>\n",
       "      <th>187.5</th>\n",
       "      <th>...</th>\n",
       "      <th>452.5</th>\n",
       "      <th>455.0</th>\n",
       "      <th>457.5</th>\n",
       "      <th>460.0</th>\n",
       "      <th>462.5</th>\n",
       "      <th>465.0</th>\n",
       "      <th>467.5</th>\n",
       "      <th>470.0</th>\n",
       "      <th>472.5</th>\n",
       "      <th>475.0</th>\n",
       "    </tr>\n",
       "    <tr>\n",
       "      <th>feature</th>\n",
       "      <th>종가</th>\n",
       "      <th>종가</th>\n",
       "      <th>종가</th>\n",
       "      <th>종가</th>\n",
       "      <th>종가</th>\n",
       "      <th>종가</th>\n",
       "      <th>종가</th>\n",
       "      <th>종가</th>\n",
       "      <th>종가</th>\n",
       "      <th>종가</th>\n",
       "      <th>...</th>\n",
       "      <th>미결제약정</th>\n",
       "      <th>미결제약정</th>\n",
       "      <th>미결제약정</th>\n",
       "      <th>미결제약정</th>\n",
       "      <th>미결제약정</th>\n",
       "      <th>미결제약정</th>\n",
       "      <th>미결제약정</th>\n",
       "      <th>미결제약정</th>\n",
       "      <th>미결제약정</th>\n",
       "      <th>미결제약정</th>\n",
       "    </tr>\n",
       "    <tr>\n",
       "      <th>Date</th>\n",
       "      <th></th>\n",
       "      <th></th>\n",
       "      <th></th>\n",
       "      <th></th>\n",
       "      <th></th>\n",
       "      <th></th>\n",
       "      <th></th>\n",
       "      <th></th>\n",
       "      <th></th>\n",
       "      <th></th>\n",
       "      <th></th>\n",
       "      <th></th>\n",
       "      <th></th>\n",
       "      <th></th>\n",
       "      <th></th>\n",
       "      <th></th>\n",
       "      <th></th>\n",
       "      <th></th>\n",
       "      <th></th>\n",
       "      <th></th>\n",
       "      <th></th>\n",
       "    </tr>\n",
       "  </thead>\n",
       "  <tbody>\n",
       "    <tr>\n",
       "      <th>2007-08-01</th>\n",
       "      <td>65.3</td>\n",
       "      <td>65.75</td>\n",
       "      <td>63.3</td>\n",
       "      <td>60.8</td>\n",
       "      <td>58.35</td>\n",
       "      <td>55.9</td>\n",
       "      <td>53.45</td>\n",
       "      <td>51</td>\n",
       "      <td>48.6</td>\n",
       "      <td>46.2</td>\n",
       "      <td>...</td>\n",
       "      <td>NaN</td>\n",
       "      <td>NaN</td>\n",
       "      <td>NaN</td>\n",
       "      <td>NaN</td>\n",
       "      <td>NaN</td>\n",
       "      <td>NaN</td>\n",
       "      <td>NaN</td>\n",
       "      <td>NaN</td>\n",
       "      <td>NaN</td>\n",
       "      <td>NaN</td>\n",
       "    </tr>\n",
       "    <tr>\n",
       "      <th>2007-08-02</th>\n",
       "      <td>63.2</td>\n",
       "      <td>65.6</td>\n",
       "      <td>63.1</td>\n",
       "      <td>60.65</td>\n",
       "      <td>58.2</td>\n",
       "      <td>55.75</td>\n",
       "      <td>53.3</td>\n",
       "      <td>50.9</td>\n",
       "      <td>49.55</td>\n",
       "      <td>46.05</td>\n",
       "      <td>...</td>\n",
       "      <td>NaN</td>\n",
       "      <td>NaN</td>\n",
       "      <td>NaN</td>\n",
       "      <td>NaN</td>\n",
       "      <td>NaN</td>\n",
       "      <td>NaN</td>\n",
       "      <td>NaN</td>\n",
       "      <td>NaN</td>\n",
       "      <td>NaN</td>\n",
       "      <td>NaN</td>\n",
       "    </tr>\n",
       "    <tr>\n",
       "      <th>2007-08-03</th>\n",
       "      <td>70.55</td>\n",
       "      <td>68.05</td>\n",
       "      <td>66</td>\n",
       "      <td>62.4</td>\n",
       "      <td>60.65</td>\n",
       "      <td>58.2</td>\n",
       "      <td>55.75</td>\n",
       "      <td>53.75</td>\n",
       "      <td>50.85</td>\n",
       "      <td>48.95</td>\n",
       "      <td>...</td>\n",
       "      <td>NaN</td>\n",
       "      <td>NaN</td>\n",
       "      <td>NaN</td>\n",
       "      <td>NaN</td>\n",
       "      <td>NaN</td>\n",
       "      <td>NaN</td>\n",
       "      <td>NaN</td>\n",
       "      <td>NaN</td>\n",
       "      <td>NaN</td>\n",
       "      <td>NaN</td>\n",
       "    </tr>\n",
       "    <tr>\n",
       "      <th>2007-08-06</th>\n",
       "      <td>67.5</td>\n",
       "      <td>64.95</td>\n",
       "      <td>62.5</td>\n",
       "      <td>60</td>\n",
       "      <td>57.6</td>\n",
       "      <td>55.1</td>\n",
       "      <td>52.7</td>\n",
       "      <td>50.25</td>\n",
       "      <td>47.85</td>\n",
       "      <td>45.5</td>\n",
       "      <td>...</td>\n",
       "      <td>NaN</td>\n",
       "      <td>NaN</td>\n",
       "      <td>NaN</td>\n",
       "      <td>NaN</td>\n",
       "      <td>NaN</td>\n",
       "      <td>NaN</td>\n",
       "      <td>NaN</td>\n",
       "      <td>NaN</td>\n",
       "      <td>NaN</td>\n",
       "      <td>NaN</td>\n",
       "    </tr>\n",
       "    <tr>\n",
       "      <th>2007-08-07</th>\n",
       "      <td>70</td>\n",
       "      <td>66.25</td>\n",
       "      <td>63.75</td>\n",
       "      <td>61.3</td>\n",
       "      <td>58.85</td>\n",
       "      <td>56.35</td>\n",
       "      <td>53.9</td>\n",
       "      <td>51.45</td>\n",
       "      <td>49</td>\n",
       "      <td>46.6</td>\n",
       "      <td>...</td>\n",
       "      <td>NaN</td>\n",
       "      <td>NaN</td>\n",
       "      <td>NaN</td>\n",
       "      <td>NaN</td>\n",
       "      <td>NaN</td>\n",
       "      <td>NaN</td>\n",
       "      <td>NaN</td>\n",
       "      <td>NaN</td>\n",
       "      <td>NaN</td>\n",
       "      <td>NaN</td>\n",
       "    </tr>\n",
       "    <tr>\n",
       "      <th>...</th>\n",
       "      <td>...</td>\n",
       "      <td>...</td>\n",
       "      <td>...</td>\n",
       "      <td>...</td>\n",
       "      <td>...</td>\n",
       "      <td>...</td>\n",
       "      <td>...</td>\n",
       "      <td>...</td>\n",
       "      <td>...</td>\n",
       "      <td>...</td>\n",
       "      <td>...</td>\n",
       "      <td>...</td>\n",
       "      <td>...</td>\n",
       "      <td>...</td>\n",
       "      <td>...</td>\n",
       "      <td>...</td>\n",
       "      <td>...</td>\n",
       "      <td>...</td>\n",
       "      <td>...</td>\n",
       "      <td>...</td>\n",
       "      <td>...</td>\n",
       "    </tr>\n",
       "    <tr>\n",
       "      <th>2022-11-24</th>\n",
       "      <td>NaN</td>\n",
       "      <td>NaN</td>\n",
       "      <td>NaN</td>\n",
       "      <td>NaN</td>\n",
       "      <td>NaN</td>\n",
       "      <td>NaN</td>\n",
       "      <td>NaN</td>\n",
       "      <td>NaN</td>\n",
       "      <td>NaN</td>\n",
       "      <td>NaN</td>\n",
       "      <td>...</td>\n",
       "      <td>NaN</td>\n",
       "      <td>NaN</td>\n",
       "      <td>NaN</td>\n",
       "      <td>NaN</td>\n",
       "      <td>NaN</td>\n",
       "      <td>NaN</td>\n",
       "      <td>NaN</td>\n",
       "      <td>NaN</td>\n",
       "      <td>NaN</td>\n",
       "      <td>NaN</td>\n",
       "    </tr>\n",
       "    <tr>\n",
       "      <th>2022-11-25</th>\n",
       "      <td>NaN</td>\n",
       "      <td>NaN</td>\n",
       "      <td>NaN</td>\n",
       "      <td>NaN</td>\n",
       "      <td>NaN</td>\n",
       "      <td>NaN</td>\n",
       "      <td>NaN</td>\n",
       "      <td>NaN</td>\n",
       "      <td>NaN</td>\n",
       "      <td>NaN</td>\n",
       "      <td>...</td>\n",
       "      <td>NaN</td>\n",
       "      <td>NaN</td>\n",
       "      <td>NaN</td>\n",
       "      <td>NaN</td>\n",
       "      <td>NaN</td>\n",
       "      <td>NaN</td>\n",
       "      <td>NaN</td>\n",
       "      <td>NaN</td>\n",
       "      <td>NaN</td>\n",
       "      <td>NaN</td>\n",
       "    </tr>\n",
       "    <tr>\n",
       "      <th>2022-11-28</th>\n",
       "      <td>NaN</td>\n",
       "      <td>NaN</td>\n",
       "      <td>NaN</td>\n",
       "      <td>NaN</td>\n",
       "      <td>NaN</td>\n",
       "      <td>NaN</td>\n",
       "      <td>NaN</td>\n",
       "      <td>NaN</td>\n",
       "      <td>NaN</td>\n",
       "      <td>NaN</td>\n",
       "      <td>...</td>\n",
       "      <td>NaN</td>\n",
       "      <td>NaN</td>\n",
       "      <td>NaN</td>\n",
       "      <td>NaN</td>\n",
       "      <td>NaN</td>\n",
       "      <td>NaN</td>\n",
       "      <td>NaN</td>\n",
       "      <td>NaN</td>\n",
       "      <td>NaN</td>\n",
       "      <td>NaN</td>\n",
       "    </tr>\n",
       "    <tr>\n",
       "      <th>2022-11-29</th>\n",
       "      <td>NaN</td>\n",
       "      <td>NaN</td>\n",
       "      <td>NaN</td>\n",
       "      <td>NaN</td>\n",
       "      <td>NaN</td>\n",
       "      <td>NaN</td>\n",
       "      <td>NaN</td>\n",
       "      <td>NaN</td>\n",
       "      <td>NaN</td>\n",
       "      <td>NaN</td>\n",
       "      <td>...</td>\n",
       "      <td>NaN</td>\n",
       "      <td>NaN</td>\n",
       "      <td>NaN</td>\n",
       "      <td>NaN</td>\n",
       "      <td>NaN</td>\n",
       "      <td>NaN</td>\n",
       "      <td>NaN</td>\n",
       "      <td>NaN</td>\n",
       "      <td>NaN</td>\n",
       "      <td>NaN</td>\n",
       "    </tr>\n",
       "    <tr>\n",
       "      <th>2022-11-30</th>\n",
       "      <td>NaN</td>\n",
       "      <td>NaN</td>\n",
       "      <td>NaN</td>\n",
       "      <td>NaN</td>\n",
       "      <td>NaN</td>\n",
       "      <td>NaN</td>\n",
       "      <td>NaN</td>\n",
       "      <td>NaN</td>\n",
       "      <td>NaN</td>\n",
       "      <td>NaN</td>\n",
       "      <td>...</td>\n",
       "      <td>NaN</td>\n",
       "      <td>NaN</td>\n",
       "      <td>NaN</td>\n",
       "      <td>NaN</td>\n",
       "      <td>NaN</td>\n",
       "      <td>NaN</td>\n",
       "      <td>NaN</td>\n",
       "      <td>NaN</td>\n",
       "      <td>NaN</td>\n",
       "      <td>NaN</td>\n",
       "    </tr>\n",
       "  </tbody>\n",
       "</table>\n",
       "<p>3789 rows × 84590 columns</p>\n",
       "</div>"
      ],
      "text/plain": [
       "cpflag          C                                                          \\\n",
       "tick       200709                                                           \n",
       "strike      165.0  167.5  170.0  172.5  175.0  177.5  180.0  182.5  185.0   \n",
       "feature        종가     종가     종가     종가     종가     종가     종가     종가     종가   \n",
       "Date                                                                        \n",
       "2007-08-01   65.3  65.75   63.3   60.8  58.35   55.9  53.45     51   48.6   \n",
       "2007-08-02   63.2   65.6   63.1  60.65   58.2  55.75   53.3   50.9  49.55   \n",
       "2007-08-03  70.55  68.05     66   62.4  60.65   58.2  55.75  53.75  50.85   \n",
       "2007-08-06   67.5  64.95   62.5     60   57.6   55.1   52.7  50.25  47.85   \n",
       "2007-08-07     70  66.25  63.75   61.3  58.85  56.35   53.9  51.45     49   \n",
       "...           ...    ...    ...    ...    ...    ...    ...    ...    ...   \n",
       "2022-11-24    NaN    NaN    NaN    NaN    NaN    NaN    NaN    NaN    NaN   \n",
       "2022-11-25    NaN    NaN    NaN    NaN    NaN    NaN    NaN    NaN    NaN   \n",
       "2022-11-28    NaN    NaN    NaN    NaN    NaN    NaN    NaN    NaN    NaN   \n",
       "2022-11-29    NaN    NaN    NaN    NaN    NaN    NaN    NaN    NaN    NaN   \n",
       "2022-11-30    NaN    NaN    NaN    NaN    NaN    NaN    NaN    NaN    NaN   \n",
       "\n",
       "cpflag             ...      P                                                  \\\n",
       "tick               ... 202211                                                   \n",
       "strike      187.5  ...  452.5 455.0 457.5 460.0 462.5 465.0 467.5 470.0 472.5   \n",
       "feature        종가  ...  미결제약정 미결제약정 미결제약정 미결제약정 미결제약정 미결제약정 미결제약정 미결제약정 미결제약정   \n",
       "Date               ...                                                          \n",
       "2007-08-01   46.2  ...    NaN   NaN   NaN   NaN   NaN   NaN   NaN   NaN   NaN   \n",
       "2007-08-02  46.05  ...    NaN   NaN   NaN   NaN   NaN   NaN   NaN   NaN   NaN   \n",
       "2007-08-03  48.95  ...    NaN   NaN   NaN   NaN   NaN   NaN   NaN   NaN   NaN   \n",
       "2007-08-06   45.5  ...    NaN   NaN   NaN   NaN   NaN   NaN   NaN   NaN   NaN   \n",
       "2007-08-07   46.6  ...    NaN   NaN   NaN   NaN   NaN   NaN   NaN   NaN   NaN   \n",
       "...           ...  ...    ...   ...   ...   ...   ...   ...   ...   ...   ...   \n",
       "2022-11-24    NaN  ...    NaN   NaN   NaN   NaN   NaN   NaN   NaN   NaN   NaN   \n",
       "2022-11-25    NaN  ...    NaN   NaN   NaN   NaN   NaN   NaN   NaN   NaN   NaN   \n",
       "2022-11-28    NaN  ...    NaN   NaN   NaN   NaN   NaN   NaN   NaN   NaN   NaN   \n",
       "2022-11-29    NaN  ...    NaN   NaN   NaN   NaN   NaN   NaN   NaN   NaN   NaN   \n",
       "2022-11-30    NaN  ...    NaN   NaN   NaN   NaN   NaN   NaN   NaN   NaN   NaN   \n",
       "\n",
       "cpflag            \n",
       "tick              \n",
       "strike     475.0  \n",
       "feature    미결제약정  \n",
       "Date              \n",
       "2007-08-01   NaN  \n",
       "2007-08-02   NaN  \n",
       "2007-08-03   NaN  \n",
       "2007-08-06   NaN  \n",
       "2007-08-07   NaN  \n",
       "...          ...  \n",
       "2022-11-24   NaN  \n",
       "2022-11-25   NaN  \n",
       "2022-11-28   NaN  \n",
       "2022-11-29   NaN  \n",
       "2022-11-30   NaN  \n",
       "\n",
       "[3789 rows x 84590 columns]"
      ]
     },
     "execution_count": 2,
     "metadata": {},
     "output_type": "execute_result"
    }
   ],
   "source": [
    "file_path = os.getcwd() + '/Data/'\n",
    "\n",
    "kospi200 = stock.get_index_ohlcv('20050801', '20221130', '1028')['종가']\n",
    "kospi200_vol = pd.DataFrame(np.log(kospi200).diff().rolling(60).std() * np.sqrt(252)).dropna()\n",
    "kospi200_vol.index = pd.to_datetime(kospi200_vol.index)\n",
    "rf = pd.read_csv(file_path + 'rf.csv', index_col=['Date'], parse_dates=True)\n",
    "file_path = os.getcwd() + '/Data/'\n",
    "\n",
    "df_close   = pd.read_pickle(file_path+'kospi200/'+'Call_data_close.pkl')\n",
    "df_base    = pd.read_pickle(file_path+'kospi200/'+'Call_data_base.pkl')\n",
    "df_volume  = pd.read_pickle(file_path+'kospi200/'+'Call_data_volume.pkl')\n",
    "df_imvol   = pd.read_pickle(file_path+'kospi200/'+'Call_data_imvol.pkl')\n",
    "df_open    = pd.read_pickle(file_path+'kospi200/'+'Call_data_open.pkl')\n",
    "\n",
    "df_close2   = pd.read_pickle(file_path+'kospi200/'+'Put_data_close.pkl')\n",
    "df_base2    = pd.read_pickle(file_path+'kospi200/'+'Put_data_base.pkl')\n",
    "df_volume2  = pd.read_pickle(file_path+'kospi200/'+'Put_data_volume.pkl')\n",
    "df_imvol2   = pd.read_pickle(file_path+'kospi200/'+'Put_data_imvol.pkl')\n",
    "df_open2    = pd.read_pickle(file_path+'kospi200/'+'Put_data_open.pkl')\n",
    "\n",
    "\n",
    "data_list = [df_close, df_base, df_volume, df_imvol, df_open,\\\n",
    "             df_close2, df_base2, df_volume2, df_imvol2, df_open2]\n",
    "\n",
    "test = []\n",
    "ttt = ['종가', '기준가', '거래량', '내재변동성', '미결제약정', '종가', '기준가', '거래량', '내재변동성', '미결제약정']\n",
    "\n",
    "for idx, dfdfdfdf in enumerate(data_list):\n",
    "\n",
    "    '''코스피일 경우엔 아래 진행'''\n",
    "\n",
    "    tmp = dfdfdfdf.iloc[8:]\n",
    "    tmp = tmp.set_axis(tmp.iloc[0], axis=1).drop(index=[8,9,10,11,12])\n",
    "\n",
    "    tmp = tmp.rename(columns={tmp.columns[0] : 'Date'}).set_index('Date')\n",
    "    tmp.index = pd.to_datetime(tmp.index)\n",
    "    tmp.columns = [ch(x) for x in tmp.columns]\n",
    "\n",
    "    '''코스피 아닐경우 바로 아래만 진행'''\n",
    "\n",
    "    k_list = [float(x[7:]) for x in tmp.columns]\n",
    "    t_list = [x[1:7] for x in tmp.columns]\n",
    "    c_list = [x[0] for x in tmp.columns]\n",
    "    f_list = [ttt[idx] for x in tmp.columns]\n",
    "    ppp = pd.DataFrame(data=tmp.values, index=tmp.index, columns=[c_list, t_list, k_list, f_list])\n",
    "    test.append(ppp)\n",
    "\n",
    "df = pd.concat(test, axis=1)#, keys=ttt)\n",
    "#df.columns = df.columns.swaplevel(0, 1).swaplevel(1,2).swaplevel(2,3)\n",
    "df.columns.names = ['cpflag', 'tick', 'strike', 'feature']\n",
    "df\n"
   ]
  },
  {
   "cell_type": "code",
   "execution_count": 3,
   "metadata": {},
   "outputs": [],
   "source": [
    "'''코스피'''\n",
    "kospi_idx = kospi200.loc['2007-12-03':'2022-10-17'].index\n",
    "idx = kospi_idx[2]\n",
    "s0 = kospi200.loc[idx]"
   ]
  },
  {
   "attachments": {},
   "cell_type": "markdown",
   "metadata": {},
   "source": [
    "# 거래기록 Count"
   ]
  },
  {
   "cell_type": "code",
   "execution_count": 67,
   "metadata": {},
   "outputs": [
    {
     "name": "stderr",
     "output_type": "stream",
     "text": [
      "100%|██████████| 3674/3674 [02:12<00:00, 27.71it/s]\n"
     ]
    }
   ],
   "source": [
    "count = 0\n",
    "countp = 0\n",
    "for num in tqdm(range(len(kospi_idx))):\n",
    "    try:\n",
    "        idx = kospi_idx[0]\n",
    "        s0 = kospi200.loc[idx]\n",
    "        '''전처리용 데이터'''\n",
    "        test = pd.DataFrame(df.loc[idx, ('C', next_opt_exp(idx), slice(None), slice(None))]).T\n",
    "        testp = pd.DataFrame(df.loc[idx, ('P', next_opt_exp(idx), slice(None), slice(None))]).T\n",
    "\n",
    "        '''otm 가격'''\n",
    "        otm_k_c = otm_mapping(test, s0, 0.08)\n",
    "        otm_k_p = otm_mapping(test, s0, -0.08)\n",
    "        atm_k = atm_mapping(test, s0)\n",
    "\n",
    "        '''Strike range 잡기'''\n",
    "        k_list_c = test.columns.get_level_values(2).unique().values\n",
    "        k_list_p = testp.columns.get_level_values(2).unique().values\n",
    "\n",
    "        k_list_c = k_list_c[np.where((k_list_c >= atm_k) & ( k_list_c <= otm_k_c))]\n",
    "        k_list_p = k_list_p[np.where((k_list_p <= atm_k) & ( k_list_p >= otm_k_p))]\n",
    "\n",
    "        kp_list_c = test.loc[idx, (slice(None), slice(None), k_list_c, '종가')].astype(float).values\n",
    "        kp_list_p = testp.loc[idx, (slice(None), slice(None), k_list_p, '종가')].astype(float).values\n",
    "\n",
    "\n",
    "        '''임볼 그리기'''\n",
    "        kk = test.columns.get_level_values(2)\n",
    "        kk_p = kk[np.where((kk < atm_k))]\n",
    "        kk_c = kk[np.where((kk >= atm_k))]\n",
    "        iv_tmp = pd.concat([pd.DataFrame(testp.loc[idx, (slice(None), slice(None), kk_p, '내재변동성')]), pd.DataFrame(test.loc[idx, (slice(None), slice(None), kk_c, '내재변동성')])])\n",
    "        iv_tmp = pd.DataFrame(data=iv_tmp.values, index=iv_tmp.index.get_level_values(2).values, columns=[idx])\n",
    "\n",
    "        # plt.figure(figsize=(5,5))\n",
    "        # plt.plot(iv_tmp)\n",
    "        # plt.axvline(atm_k, color='k')\n",
    "        # plt.scatter(x=iv_tmp.index, y=iv_tmp)\n",
    "        # plt.legend()\n",
    "        # plt.show()\n",
    "\n",
    "        '''가격 그래프'''\n",
    "        pr_tmp = pd.concat([pd.DataFrame(testp.loc[idx, (slice(None), slice(None), kk_p, '종가')]), pd.DataFrame(test.loc[idx, (slice(None), slice(None), kk_c, '종가')])])\n",
    "        pr_tmp = pd.DataFrame(data=pr_tmp.values, index=pr_tmp.index.get_level_values(2).values, columns=[idx])\n",
    "        # plt.figure(figsize=(5,5))\n",
    "        # plt.plot(pr_tmp)\n",
    "        # plt.axvline(atm_k, color='k')\n",
    "        # plt.scatter(x=pr_tmp.index, y=pr_tmp)\n",
    "        # plt.legend()\n",
    "        # plt.show()\n",
    "\n",
    "\n",
    "        '''port 구성 잡기'''\n",
    "        port_comb = sliding_window_view(k_list_c, 3)\n",
    "        port_comb_p = sliding_window_view(k_list_p, 3)\n",
    "\n",
    "        '''g 값, 확률, 3가지 행사가격을 가지고 구해서 양 끝 사이에 존재할 확률을 구했음'''\n",
    "        g_list = tmp_dist(kp_list_c, k_list_c)\n",
    "        g_list_p = tmp_dist(kp_list_p, k_list_p)\n",
    "\n",
    "\n",
    "        g_list_p\n",
    "        '''진입은 > -일때 진입\n",
    "        청산 > 다음 위치가 + 일때 청산\n",
    "\n",
    "        각각의 포트폴리오는, sliding window로 만든것 중에서, 앞뒤 롱, 가운데 숏임 / 아니면 숏숏롱'''\n",
    "        if (g_list<0).sum() != 0:\n",
    "            count += (g_list<0).sum()\n",
    "        else:\n",
    "            pass\n",
    "        if (g_list_p<0).sum() != 0:\n",
    "            countp += (g_list_p<0).sum()\n",
    "        else:\n",
    "            pass\n",
    "\n",
    "    except:\n",
    "        print(kospi_idx[num])\n",
    "        pass\n"
   ]
  },
  {
   "attachments": {},
   "cell_type": "markdown",
   "metadata": {},
   "source": [
    "# 백테스트용 사전 p_reg, g_reg 뽑기"
   ]
  },
  {
   "cell_type": "code",
   "execution_count": 154,
   "metadata": {},
   "outputs": [
    {
     "name": "stderr",
     "output_type": "stream",
     "text": [
      "100%|██████████| 3674/3674 [03:49<00:00, 16.03it/s]\n"
     ]
    }
   ],
   "source": [
    "g_reg = pd.DataFrame()\n",
    "p_reg = pd.DataFrame()\n",
    "p_all_reg = pd.DataFrame()\n",
    "iv_reg = pd.DataFrame()\n",
    "\n",
    "for num in tqdm(range(len(kospi_idx))):\n",
    "#for num in tqdm(range(1900, 3674)):\n",
    "    \n",
    "    idx = kospi_idx[num]\n",
    "    s0 = kospi200.loc[idx]    \n",
    "\n",
    "    '''전처리용 데이터'''\n",
    "    test = pd.DataFrame(df.loc[idx, ('C', next_opt_exp(idx), slice(None), slice(None))]).T\n",
    "    testp = pd.DataFrame(df.loc[idx, ('P', next_opt_exp(idx), slice(None), slice(None))]).T\n",
    "\n",
    "    '''otm 가격'''\n",
    "    # otm_k_c = otm_mapping(test, s0, 0.08)\n",
    "    # otm_k_p = otm_mapping(test, s0, -0.08)\n",
    "    atm_k = atm_mapping(test, s0)\n",
    "\n",
    "    kk = test.columns.get_level_values(2)\n",
    "    kk_p = kk[np.where((kk < atm_k))]\n",
    "    kk_pa = kk[np.where((kk < atm_k * 1.2))] \n",
    "    kk_c = kk[np.where((kk >= atm_k))]\n",
    "\n",
    "    iv_tmp = pd.concat([pd.DataFrame(testp.loc[idx, (slice(None), slice(None), kk_p, '내재변동성')]), pd.DataFrame(test.loc[idx, (slice(None), slice(None), kk_c, '내재변동성')])])\n",
    "    iv_tmp = pd.DataFrame(data=iv_tmp.values, index=iv_tmp.index.get_level_values(2).values, columns=[idx])\n",
    "\n",
    "    pr_tmp = pd.concat([pd.DataFrame(testp.loc[idx, (slice(None), slice(None), kk_p, '종가')]), pd.DataFrame(test.loc[idx, (slice(None), slice(None), kk_c, '종가')])])\n",
    "    pr_tmp = pd.DataFrame(data=pr_tmp.values, index=pr_tmp.index.get_level_values(2).values, columns=[idx])\n",
    "\n",
    "    pr_tmp_all = pd.DataFrame(testp.loc[idx, (slice(None), slice(None), kk_pa, '종가')])\n",
    "    pr_tmp_all = pd.DataFrame(data=pr_tmp_all.values, index=pr_tmp_all.index.get_level_values(2).values, columns=[idx])\n",
    "    \n",
    "    test_put_iv = iv_tmp[iv_tmp.index <= atm_k]\n",
    "    test_put_price = pr_tmp[pr_tmp.index <= atm_k]\n",
    "\n",
    "    #port_comb_c = sliding_window_view(k_list_c, 3)\n",
    "    port_comb_p = sliding_window_view(test_put_iv.index, 3)\n",
    "    g_values = tmp_dist(test_put_price.astype(float).to_numpy().reshape(-1), test_put_price.index)\n",
    "\n",
    "    '''Strike range 잡기'''\n",
    "    # k_list_c = test.columns.get_level_values(2).unique().values\n",
    "    # k_list_p = testp.columns.get_level_values(2).unique().values\n",
    "\n",
    "    # k_list_c = k_list_c[np.where((k_list_c >= atm_k) & ( k_list_c <= otm_k_c))]\n",
    "    # k_list_p = k_list_p[np.where((k_list_p <= atm_k) & ( k_list_p >= otm_k_p))]\n",
    "\n",
    "    # kp_list_c = test.loc[idx, (slice(None), slice(None), k_list_c, '종가')].astype(float).values\n",
    "    # kp_list_p = testp.loc[idx, (slice(None), slice(None), k_list_p, '종가')].astype(float).values\n",
    "\n",
    "    '''이때, 하나 줄이기'''\n",
    "    #g_reg = pd.concat([g_reg, pd.DataFrame(g_values, index=port_comb_p[:,0], columns=[idx])], axis=1)\n",
    "    g_reg = pd.concat([g_reg, pd.DataFrame(g_values[:-1], index=port_comb_p[:-1,0], columns=[idx])], axis=1).sort_index()\n",
    "    p_reg = pd.concat([p_reg, test_put_price.sort_index(ascending=True)], axis=1).sort_index()\n",
    "    p_all_reg = pd.concat([p_all_reg, pr_tmp_all.sort_index(ascending=True)], axis=1).sort_index()\n",
    "    iv_reg = pd.concat([iv_reg, test_put_iv.sort_index(ascending=True)], axis=1).sort_index()"
   ]
  },
  {
   "attachments": {},
   "cell_type": "markdown",
   "metadata": {},
   "source": [
    "# 백테스팅"
   ]
  },
  {
   "cell_type": "code",
   "execution_count": 252,
   "metadata": {},
   "outputs": [
    {
     "name": "stderr",
     "output_type": "stream",
     "text": [
      " 89%|████████▉ | 1617/1816 [00:20<00:03, 56.17it/s]"
     ]
    },
    {
     "name": "stdout",
     "output_type": "stream",
     "text": [
      "392.5\n",
      "-4.84\n"
     ]
    },
    {
     "name": "stderr",
     "output_type": "stream",
     "text": [
      "100%|██████████| 1816/1816 [00:24<00:00, 74.87it/s]\n"
     ]
    }
   ],
   "source": [
    "cost_df = pd.DataFrame()\n",
    "pnl_df = pd.DataFrame()\n",
    "eq_pnl_df = pd.DataFrame()\n",
    "\n",
    "pnl = pd.DataFrame(index=g_reg.columns, columns=['cost', 'path'])\n",
    "port = []\n",
    "possible_inst = sliding_window_view(g_reg.index, 3)\n",
    "holding_p = []\n",
    "budget = 10000\n",
    "budget_df = pd.DataFrame(columns=['budget'])\n",
    "\n",
    "init_position_date = 0\n",
    "holding_position_date = 0\n",
    "\n",
    "#for inv_idx in tqdm(g_reg.columns[-2000:-1990]):\n",
    "for inv_idx in tqdm(g_reg.columns[-1816:]):    \n",
    "#for inv_idx in tqdm(g_reg.columns[3030 : 3040]):\n",
    "        \n",
    "    try:\n",
    "        \n",
    "        idx = inv_idx\n",
    "        s0 = kospi200.loc[idx]    \n",
    "\n",
    "        # print(idx)\n",
    "        # print(holding_p)\n",
    "    \n",
    "\n",
    "        '''필요 df'''\n",
    "        check = g_reg[idx]\n",
    "        p_check = p_reg[idx]\n",
    "        #possible_inst = sliding_window_view(p_reg[idx].dropna().index, 3)\n",
    "\n",
    "        testp = pd.DataFrame(df.loc[idx, ('P', next_opt_exp(idx), slice(None), slice(None))]).T\n",
    "\n",
    "        '''1. k범위 정하기'''\n",
    "        #otm_k_c = otm_mapping(test, s0, 0.08)\n",
    "        otm_k_p = otm_mapping(testp, s0, -0.08)\n",
    "        atm_k = atm_mapping(testp, s0)\n",
    "\n",
    "        '''1. 들고 있는 포지션 있는지 확인하기'''\n",
    "        '''holding_p에 데이터 있는지 확인'''\n",
    "        if holding_p == []:\n",
    "            pass\n",
    "        \n",
    "        else:\n",
    "            holding_position_date += 1\n",
    "            pnl_ch = 0\n",
    "            eq = len(holding_p)\n",
    "            for port in holding_p:\n",
    "                '''0으로 갈경우는, 가격이 np.NaN인 경우, g=0이 되도록 그냥 맞춰준다고 생각해보자'''\n",
    "                # pnl_ch += cal_cost(pd.DataFrame(p_check.loc[possible_inst[np.where(possible_inst[:,0] == port)][0]]))\n",
    "                tmp_cost = cal_cost(pd.DataFrame(p_check.loc[possible_inst[np.where(possible_inst[:,0] == port)][0]]))\n",
    "                 \n",
    "                if pd.isna(tmp_cost) is False:\n",
    "                    pnl_ch += cal_cost(pd.DataFrame(p_check.loc[possible_inst[np.where(possible_inst[:,0] == port)][0]]))\n",
    "                    budget += cal_cost(pd.DataFrame(p_check.loc[possible_inst[np.where(possible_inst[:,0] == port)][0]]))\n",
    "                else:\n",
    "                    \n",
    "                    tmp_possible_inst = sliding_window_view(p_all_reg.index, 3)\n",
    "                    tmp_p_check = p_all_reg[idx]\n",
    "                    \n",
    "                    pnl_ch += cal_cost(pd.DataFrame(tmp_p_check.loc[tmp_possible_inst[np.where(tmp_possible_inst[:,0] == port)][0]]))\n",
    "                    budget += cal_cost(pd.DataFrame(tmp_p_check.loc[tmp_possible_inst[np.where(tmp_possible_inst[:,0] == port)][0]]))\n",
    "            \n",
    "            if pnl_ch < -4 :     \n",
    "                # print(idx)   \n",
    "                # print(pnl_ch)\n",
    "                # print(holding_p)\n",
    "                # print('---------------------')\n",
    "                for port in holding_p:\n",
    "                    '''0으로 갈경우는, 가격이 np.NaN인 경우, g=0이 되도록 그냥 맞춰준다고 생각해보자'''\n",
    "                    # pnl_ch += cal_cost(pd.DataFrame(p_check.loc[possible_inst[np.where(possible_inst[:,0] == port)][0]]))\n",
    "                    tmp_cost = cal_cost(pd.DataFrame(p_check.loc[possible_inst[np.where(possible_inst[:,0] == port)][0]]))\n",
    "                    print(port)\n",
    "                    print(tmp_cost)\n",
    "                    if pd.isna(tmp_cost) is False:\n",
    "                        pnl_ch += cal_cost(pd.DataFrame(p_check.loc[possible_inst[np.where(possible_inst[:,0] == port)][0]]))\n",
    "                        budget += cal_cost(pd.DataFrame(p_check.loc[possible_inst[np.where(possible_inst[:,0] == port)][0]]))\n",
    "                    else:\n",
    "                        \n",
    "                        tmp_possible_inst = sliding_window_view(p_all_reg.index, 3)\n",
    "                        tmp_p_check = p_all_reg[idx]\n",
    "                        \n",
    "                        pnl_ch += cal_cost(pd.DataFrame(tmp_p_check.loc[tmp_possible_inst[np.where(tmp_possible_inst[:,0] == port)][0]]))\n",
    "                        budget += cal_cost(pd.DataFrame(tmp_p_check.loc[tmp_possible_inst[np.where(tmp_possible_inst[:,0] == port)][0]]))\n",
    "                \n",
    "                \n",
    "            else:\n",
    "                pass\n",
    "            pnl_df.loc[idx, 'pnl'] = pnl_ch\n",
    "            eq_pnl_df.loc[idx, 'pnl'] = pnl_ch / eq\n",
    "\n",
    "            '''청산 체크'''\n",
    "            for port in holding_p:\n",
    "                if g_reg.loc[port, idx] >= 0 or pd.isna(g_reg.loc[port, idx]) == True:          \n",
    "                    del holding_p[np.where(np.array(holding_p)==port)[0][0]]\n",
    "                else:\n",
    "                    pass\n",
    "        \n",
    "        '''2. 신규 들고갈 포지션 잡기'''\n",
    "        new_position_check = check.iloc[np.where(check.index >= otm_k_p)]\n",
    "\n",
    "        if (new_position_check < 0).sum() == 0:\n",
    "            \n",
    "            # new_cost = pd.DataFrame(data=np.zeros(1), index=['cost'], columns=[idx]).T\n",
    "            # cost_df = pd.concat([cost_df, new_cost], axis=0)\n",
    "            pass\n",
    "            \n",
    "        else:\n",
    "\n",
    "            today_new_position = pd.DataFrame(new_position_check.iloc[np.where(new_position_check < 0)])\n",
    "\n",
    "            tmp_cost = 0\n",
    "\n",
    "            for new_port_idx in today_new_position.index:\n",
    "                \n",
    "                init_position_date += 1\n",
    "                # if new_port_idx in holding_p:\n",
    "                #     pass\n",
    "                \n",
    "                # else:\n",
    "                aa = pd.DataFrame(p_check.iloc[np.where(p_check.index == new_port_idx)[0][0]:np.where(p_check.index == new_port_idx)[0][0]+3])\n",
    "                tmp_cost += -cal_cost(aa)\n",
    "                \n",
    "                '''버젯에 추가 됨 -이면 돈받고 물건 산거고, +면 돈 내고 물건을 산거임'''\n",
    "                budget += -cal_cost(aa)\n",
    "                \n",
    "                #aa = pd.DataFrame(p_check.iloc[np.where(p_check.index == new_port_idx)[0][0]:np.where(p_check.index == new_port_idx)[0][0]+3]).to_numpy()\n",
    "                    \n",
    "                #for values in today_new_position.index:\n",
    "                holding_p.append(new_port_idx)\n",
    "                \n",
    "            new_cost = pd.DataFrame(data=tmp_cost, index=['cost'], columns=[idx]).T\n",
    "\n",
    "            cost_df = pd.concat([cost_df, new_cost], axis=0)\n",
    "            \n",
    "            new_holding_portfolio = today_new_position.index.to_list()\n",
    "\n",
    "                    \n",
    "        '''3. 현재 들고 있는 포지션에 추가하기'''\n",
    "        if 'new_holding_portfolio' in locals():\n",
    "            pnl.loc[idx]['cost'] = new_cost.values[0][0]\n",
    "            del new_holding_portfolio\n",
    "        else:\n",
    "            pass\n",
    "\n",
    "        budget_df.loc[idx, 'budget'] = budget    \n",
    "    except:\n",
    "        pass\n",
    "\n",
    "Nominal_PNL_df = pd.DataFrame(pnl_df.add(cost_df, fill_value=0).sum(axis=1), columns=['PNL'])\n",
    "\n",
    "all_date_df = pd.DataFrame(index=g_reg.T.index[-2000:], columns=['PNL'])\n"
   ]
  },
  {
   "cell_type": "code",
   "execution_count": 253,
   "metadata": {},
   "outputs": [
    {
     "name": "stdout",
     "output_type": "stream",
     "text": [
      "# Holding Dates : 900\n",
      "# Init Trade Dates : 458\n"
     ]
    }
   ],
   "source": [
    "print('# Holding Dates :', holding_position_date + init_position_date)\n",
    "print('# Init Trade Dates :', init_position_date)\n"
   ]
  },
  {
   "cell_type": "code",
   "execution_count": 254,
   "metadata": {},
   "outputs": [
    {
     "data": {
      "text/html": [
       "<div>\n",
       "<style scoped>\n",
       "    .dataframe tbody tr th:only-of-type {\n",
       "        vertical-align: middle;\n",
       "    }\n",
       "\n",
       "    .dataframe tbody tr th {\n",
       "        vertical-align: top;\n",
       "    }\n",
       "\n",
       "    .dataframe thead th {\n",
       "        text-align: right;\n",
       "    }\n",
       "</style>\n",
       "<table border=\"1\" class=\"dataframe\">\n",
       "  <thead>\n",
       "    <tr style=\"text-align: right;\">\n",
       "      <th></th>\n",
       "      <th>PNL</th>\n",
       "    </tr>\n",
       "  </thead>\n",
       "  <tbody>\n",
       "    <tr>\n",
       "      <th>2020-03-18</th>\n",
       "      <td>-2.95</td>\n",
       "    </tr>\n",
       "    <tr>\n",
       "      <th>2021-12-10</th>\n",
       "      <td>-9.66</td>\n",
       "    </tr>\n",
       "  </tbody>\n",
       "</table>\n",
       "</div>"
      ],
      "text/plain": [
       "             PNL\n",
       "2020-03-18 -2.95\n",
       "2021-12-10 -9.66"
      ]
     },
     "execution_count": 254,
     "metadata": {},
     "output_type": "execute_result"
    }
   ],
   "source": [
    "Nominal_PNL_df.iloc[np.where(Nominal_PNL_df<-1)[0]]"
   ]
  },
  {
   "cell_type": "code",
   "execution_count": 291,
   "metadata": {},
   "outputs": [
    {
     "data": {
      "text/plain": [
       "348.9323439667128"
      ]
     },
     "execution_count": 291,
     "metadata": {},
     "output_type": "execute_result"
    }
   ],
   "source": [
    "kospi200.loc['2020':].mean()"
   ]
  },
  {
   "cell_type": "code",
   "execution_count": 296,
   "metadata": {},
   "outputs": [
    {
     "data": {
      "text/plain": [
       "0.6999687500000003"
      ]
     },
     "execution_count": 296,
     "metadata": {},
     "output_type": "execute_result"
    }
   ],
   "source": [
    "p_reg.loc['2020':].loc[340].dropna().mean()"
   ]
  },
  {
   "cell_type": "code",
   "execution_count": 297,
   "metadata": {},
   "outputs": [
    {
     "data": {
      "text/plain": [
       "690000.0"
      ]
     },
     "execution_count": 297,
     "metadata": {},
     "output_type": "execute_result"
    }
   ],
   "source": [
    "0.69*4*250000"
   ]
  },
  {
   "cell_type": "code",
   "execution_count": 278,
   "metadata": {},
   "outputs": [
    {
     "data": {
      "text/plain": [
       "192.5   -0.0160\n",
       "195.0    0.0080\n",
       "197.5    0.0208\n",
       "200.0   -0.0144\n",
       "202.5    0.0176\n",
       "205.0    0.0048\n",
       "207.5    0.0144\n",
       "210.0   -0.0160\n",
       "212.5    0.0240\n",
       "215.0    0.0080\n",
       "217.5    0.0080\n",
       "Name: 2020-03-17 00:00:00, dtype: float64"
      ]
     },
     "execution_count": 278,
     "metadata": {},
     "output_type": "execute_result"
    }
   ],
   "source": [
    "g_reg['2020-03-17'].dropna()"
   ]
  },
  {
   "cell_type": "code",
   "execution_count": 282,
   "metadata": {},
   "outputs": [
    {
     "data": {
      "text/plain": [
       "5890000.0"
      ]
     },
     "execution_count": 282,
     "metadata": {},
     "output_type": "execute_result"
    }
   ],
   "source": [
    "5.89 * 250000 * 4"
   ]
  },
  {
   "cell_type": "code",
   "execution_count": 276,
   "metadata": {},
   "outputs": [
    {
     "data": {
      "text/plain": [
       "192.5     5.89\n",
       "195.0     6.52\n",
       "197.5     7.05\n",
       "200.0     7.63\n",
       "202.5     8.34\n",
       "205.0     8.96\n",
       "207.5     9.69\n",
       "210.0    10.45\n",
       "212.5     11.3\n",
       "215.0    12.05\n",
       "217.5    12.95\n",
       "220.0     13.9\n",
       "222.5     14.9\n",
       "225.0     16.2\n",
       "Name: 2020-03-17 00:00:00, dtype: object"
      ]
     },
     "execution_count": 276,
     "metadata": {},
     "output_type": "execute_result"
    }
   ],
   "source": [
    "p_reg['2020-03-17'].dropna()"
   ]
  },
  {
   "cell_type": "code",
   "execution_count": 279,
   "metadata": {},
   "outputs": [
    {
     "data": {
      "text/plain": [
       "-0.10000000000000142"
      ]
     },
     "execution_count": 279,
     "metadata": {},
     "output_type": "execute_result"
    }
   ],
   "source": [
    "10.45 + 12.05  - 22.6"
   ]
  },
  {
   "cell_type": "code",
   "execution_count": 263,
   "metadata": {},
   "outputs": [
    {
     "data": {
      "text/plain": [
       "187.5     7.22\n",
       "190.0     7.81\n",
       "192.5     8.41\n",
       "195.0     9.09\n",
       "197.5      9.8\n",
       "200.0    10.55\n",
       "202.5    11.35\n",
       "205.0     12.2\n",
       "207.5    13.15\n",
       "210.0    14.05\n",
       "212.5    15.05\n",
       "215.0       13\n",
       "Name: 2020-03-18 00:00:00, dtype: object"
      ]
     },
     "execution_count": 263,
     "metadata": {},
     "output_type": "execute_result"
    }
   ],
   "source": [
    "p_reg['2020-03-18'].dropna()"
   ]
  },
  {
   "cell_type": "code",
   "execution_count": 280,
   "metadata": {},
   "outputs": [
    {
     "data": {
      "text/plain": [
       "-3.0500000000000007"
      ]
     },
     "execution_count": 280,
     "metadata": {},
     "output_type": "execute_result"
    }
   ],
   "source": [
    "14.05 + 13 - 30.1"
   ]
  },
  {
   "cell_type": "code",
   "execution_count": 267,
   "metadata": {},
   "outputs": [
    {
     "data": {
      "text/plain": [
       "175.0     7.07\n",
       "177.5     7.74\n",
       "180.0     8.56\n",
       "182.5     9.32\n",
       "185.0    10.25\n",
       "187.5     11.1\n",
       "190.0     11.9\n",
       "192.5    12.85\n",
       "195.0     13.9\n",
       "197.5     14.9\n",
       "200.0       16\n",
       "202.5     17.2\n",
       "205.0    18.25\n",
       "207.5     19.7\n",
       "210.0    21.05\n",
       "212.5    22.35\n",
       "215.0     24.1\n",
       "217.5     26.1\n",
       "220.0     27.7\n",
       "222.5    29.35\n",
       "225.0    31.15\n",
       "227.5    33.35\n",
       "230.0       35\n",
       "232.5     37.6\n",
       "235.0     38.7\n",
       "Name: 2020-03-19 00:00:00, dtype: object"
      ]
     },
     "execution_count": 267,
     "metadata": {},
     "output_type": "execute_result"
    }
   ],
   "source": [
    "p_all_reg['2020-03-19'].dropna()"
   ]
  },
  {
   "cell_type": "code",
   "execution_count": 268,
   "metadata": {},
   "outputs": [
    {
     "data": {
      "text/plain": [
       "0.45000000000000284"
      ]
     },
     "execution_count": 268,
     "metadata": {},
     "output_type": "execute_result"
    }
   ],
   "source": [
    "21.05 + 24.1 - 44.7"
   ]
  },
  {
   "cell_type": "code",
   "execution_count": 275,
   "metadata": {},
   "outputs": [
    {
     "data": {
      "text/plain": [
       "292.5    0.0016\n",
       "295.0    0.0000\n",
       "297.5    0.0000\n",
       "300.0   -0.0016\n",
       "302.5    0.0016\n",
       "305.0    0.0000\n",
       "307.5    0.0000\n",
       "310.0    0.0000\n",
       "312.5    0.0000\n",
       "315.0    0.0016\n",
       "317.5   -0.0016\n",
       "320.0    0.0016\n",
       "322.5    0.0000\n",
       "325.0    0.0000\n",
       "327.5   -0.0016\n",
       "330.0    0.0048\n",
       "332.5   -0.0016\n",
       "335.0    0.0016\n",
       "337.5    0.0016\n",
       "340.0   -0.0016\n",
       "342.5    0.0032\n",
       "345.0    0.0048\n",
       "347.5   -0.0048\n",
       "350.0    0.0096\n",
       "352.5   -0.0048\n",
       "355.0    0.0096\n",
       "357.5    0.0016\n",
       "360.0    0.0032\n",
       "362.5    0.0080\n",
       "365.0    0.0048\n",
       "367.5    0.0176\n",
       "370.0   -0.0032\n",
       "372.5    0.0176\n",
       "375.0    0.0080\n",
       "377.5    0.0096\n",
       "380.0    0.0256\n",
       "382.5    0.0096\n",
       "385.0    0.0176\n",
       "387.5    0.0240\n",
       "390.0    0.0224\n",
       "Name: 2021-12-10 00:00:00, dtype: float64"
      ]
     },
     "execution_count": 275,
     "metadata": {},
     "output_type": "execute_result"
    }
   ],
   "source": [
    "g_reg['2021-12-10'].dropna()"
   ]
  },
  {
   "cell_type": "code",
   "execution_count": 274,
   "metadata": {},
   "outputs": [
    {
     "data": {
      "text/plain": [
       "292.5    0.06\n",
       "295.0    0.06\n",
       "297.5    0.07\n",
       "300.0    0.08\n",
       "302.5    0.09\n",
       "305.0    0.09\n",
       "307.5     0.1\n",
       "310.0    0.11\n",
       "312.5    0.12\n",
       "315.0    0.13\n",
       "317.5    0.14\n",
       "320.0    0.16\n",
       "322.5    0.17\n",
       "325.0    0.19\n",
       "327.5    0.21\n",
       "330.0    0.23\n",
       "332.5    0.24\n",
       "335.0    0.28\n",
       "337.5    0.31\n",
       "340.0    0.35\n",
       "342.5     0.4\n",
       "345.0    0.44\n",
       "347.5     0.5\n",
       "350.0    0.59\n",
       "352.5    0.65\n",
       "355.0    0.77\n",
       "357.5    0.86\n",
       "360.0    1.01\n",
       "362.5    1.17\n",
       "365.0    1.35\n",
       "367.5    1.58\n",
       "370.0    1.84\n",
       "372.5    2.21\n",
       "375.0    2.56\n",
       "377.5    3.02\n",
       "380.0    3.53\n",
       "382.5     4.1\n",
       "385.0    4.83\n",
       "387.5    5.62\n",
       "390.0    6.52\n",
       "392.5    7.57\n",
       "395.0    8.76\n",
       "397.5    5.11\n",
       "Name: 2021-12-10 00:00:00, dtype: object"
      ]
     },
     "execution_count": 274,
     "metadata": {},
     "output_type": "execute_result"
    }
   ],
   "source": [
    "p_reg['2021-12-10'].dropna()\n"
   ]
  },
  {
   "cell_type": "code",
   "execution_count": 269,
   "metadata": {},
   "outputs": [
    {
     "data": {
      "text/plain": [
       "<AxesSubplot:>"
      ]
     },
     "execution_count": 269,
     "metadata": {},
     "output_type": "execute_result"
    },
    {
     "data": {
      "image/png": "[encoded data removed]",
      "text/plain": [
       "<Figure size 640x480 with 1 Axes>"
      ]
     },
     "metadata": {},
     "output_type": "display_data"
    }
   ],
   "source": [
    "Nominal_PNL_df.plot()"
   ]
  },
  {
   "cell_type": "code",
   "execution_count": 270,
   "metadata": {},
   "outputs": [
    {
     "data": {
      "image/png": "[encoded data removed]",
      "text/plain": [
       "<Figure size 500x500 with 1 Axes>"
      ]
     },
     "metadata": {},
     "output_type": "display_data"
    }
   ],
   "source": [
    "import seaborn as sns\n",
    "\n",
    "plt.figure(figsize=(5,5))\n",
    "sns.distplot(Nominal_PNL_df)\n",
    "plt.xlim(-1, 1)\n",
    "plt.show()"
   ]
  },
  {
   "attachments": {},
   "cell_type": "markdown",
   "metadata": {},
   "source": [
    "## Sharpe"
   ]
  },
  {
   "cell_type": "code",
   "execution_count": 271,
   "metadata": {},
   "outputs": [
    {
     "data": {
      "image/png": "[encoded data removed]",
      "text/plain": [
       "<Figure size 1400x700 with 1 Axes>"
      ]
     },
     "metadata": {},
     "output_type": "display_data"
    }
   ],
   "source": [
    "sharpe = (eq_pnl_df.mean() * 252 / (eq_pnl_df.std() * np.sqrt(252))).item()\n",
    "plt.figure(figsize=(14,7))\n",
    "plt.title('Cummulative Returns of Strategy')\n",
    "plt.plot(eq_pnl_df.cumsum(), color='b', label=f'Sharpe:{np.round(sharpe, 3)}')\n",
    "plt.grid()\n",
    "plt.legend()\n",
    "plt.show()"
   ]
  },
  {
   "cell_type": "code",
   "execution_count": 273,
   "metadata": {},
   "outputs": [
    {
     "data": {
      "image/png": "[encoded data removed]",
      "text/plain": [
       "<Figure size 1400x700 with 1 Axes>"
      ]
     },
     "metadata": {},
     "output_type": "display_data"
    }
   ],
   "source": [
    "'''with loss cut'''\n",
    "\n",
    "loss_cut_df = pd.DataFrame(index=eq_pnl_df.index, data=np.where(eq_pnl_df<-1, -1, eq_pnl_df), columns=['PNL'])\n",
    "\n",
    "sharpe = (loss_cut_df.mean() * 252 / (loss_cut_df.std() * np.sqrt(252))).item()\n",
    "plt.figure(figsize=(14,7))\n",
    "plt.title('Cummulative Returns of Strategy')\n",
    "plt.plot(loss_cut_df.cumsum(), color='b', label=f'Sharpe:{np.round(sharpe, 3)}')\n",
    "plt.grid()\n",
    "plt.legend()\n",
    "plt.show()"
   ]
  },
  {
   "attachments": {},
   "cell_type": "markdown",
   "metadata": {},
   "source": [
    "## Holding 기간 보기"
   ]
  },
  {
   "cell_type": "code",
   "execution_count": 13,
   "metadata": {},
   "outputs": [
    {
     "name": "stderr",
     "output_type": "stream",
     "text": [
      "100%|██████████| 1816/1816 [00:20<00:00, 89.07it/s] \n"
     ]
    }
   ],
   "source": [
    "init_port = pd.DataFrame(columns=['port'])\n",
    "\n",
    "for x in tqdm(g_reg.columns[-1816:]):\n",
    "\n",
    "    idx = x\n",
    "    s0 = kospi200.loc[idx]    \n",
    "\n",
    "    '''필요 df'''\n",
    "    check = g_reg[idx]\n",
    "    p_check = p_reg[idx]\n",
    "    #possible_inst = sliding_window_view(p_reg[idx].dropna().index, 3)\n",
    "\n",
    "    testp = pd.DataFrame(df.loc[idx, ('P', next_opt_exp(idx), slice(None), slice(None))]).T\n",
    "\n",
    "    '''1. k범위 정하기'''\n",
    "    #otm_k_c = otm_mapping(test, s0, 0.08)\n",
    "    otm_k_p = otm_mapping(testp, s0, -0.08)\n",
    "    atm_k = atm_mapping(testp, s0)\n",
    "\n",
    "    check_g = g_reg[idx].iloc[np.where(g_reg[idx].index > otm_k_p)[0]].dropna()\n",
    "\n",
    "    if len(check_g.iloc[np.where(check_g < 0)[0]]) == 0:\n",
    "        pass\n",
    "    else:\n",
    "        \n",
    "        port_list = []\n",
    "        \n",
    "        for new_port in check_g.iloc[np.where(check_g < 0)[0]].index:\n",
    "            port_list.append(new_port)\n",
    "        \n",
    "        init_port.loc[idx, 'port'] = port_list\n",
    "\n",
    "init_port_list = []\n",
    "\n",
    "for index in init_port.index:\n",
    "    for x in init_port.loc[index, 'port']:\n",
    "        init_port_list.append(index.strftime('%Y%m%d') + str(x))\n"
   ]
  },
  {
   "cell_type": "code",
   "execution_count": 25,
   "metadata": {},
   "outputs": [
    {
     "name": "stderr",
     "output_type": "stream",
     "text": [
      "100%|██████████| 332/332 [00:00<00:00, 1386.27it/s]\n"
     ]
    },
    {
     "data": {
      "text/html": [
       "<div>\n",
       "<style scoped>\n",
       "    .dataframe tbody tr th:only-of-type {\n",
       "        vertical-align: middle;\n",
       "    }\n",
       "\n",
       "    .dataframe tbody tr th {\n",
       "        vertical-align: top;\n",
       "    }\n",
       "\n",
       "    .dataframe thead th {\n",
       "        text-align: right;\n",
       "    }\n",
       "</style>\n",
       "<table border=\"1\" class=\"dataframe\">\n",
       "  <thead>\n",
       "    <tr style=\"text-align: right;\">\n",
       "      <th></th>\n",
       "      <th>Start</th>\n",
       "      <th>Port</th>\n",
       "      <th>End</th>\n",
       "      <th>Holdings</th>\n",
       "    </tr>\n",
       "  </thead>\n",
       "  <tbody>\n",
       "    <tr>\n",
       "      <th>0</th>\n",
       "      <td>2015-07-01</td>\n",
       "      <td>235.0</td>\n",
       "      <td>2015-07-02</td>\n",
       "      <td>1</td>\n",
       "    </tr>\n",
       "    <tr>\n",
       "      <th>1</th>\n",
       "      <td>2015-08-07</td>\n",
       "      <td>222.5</td>\n",
       "      <td>2015-08-10</td>\n",
       "      <td>3</td>\n",
       "    </tr>\n",
       "    <tr>\n",
       "      <th>2</th>\n",
       "      <td>2015-08-24</td>\n",
       "      <td>207.5</td>\n",
       "      <td>2015-08-26</td>\n",
       "      <td>2</td>\n",
       "    </tr>\n",
       "    <tr>\n",
       "      <th>3</th>\n",
       "      <td>2015-08-24</td>\n",
       "      <td>212.5</td>\n",
       "      <td>2015-08-25</td>\n",
       "      <td>1</td>\n",
       "    </tr>\n",
       "    <tr>\n",
       "      <th>4</th>\n",
       "      <td>2015-08-25</td>\n",
       "      <td>207.5</td>\n",
       "      <td>2015-08-26</td>\n",
       "      <td>1</td>\n",
       "    </tr>\n",
       "    <tr>\n",
       "      <th>...</th>\n",
       "      <td>...</td>\n",
       "      <td>...</td>\n",
       "      <td>...</td>\n",
       "      <td>...</td>\n",
       "    </tr>\n",
       "    <tr>\n",
       "      <th>327</th>\n",
       "      <td>2022-08-08</td>\n",
       "      <td>302.5</td>\n",
       "      <td>2022-08-09</td>\n",
       "      <td>1</td>\n",
       "    </tr>\n",
       "    <tr>\n",
       "      <th>328</th>\n",
       "      <td>2022-08-09</td>\n",
       "      <td>307.5</td>\n",
       "      <td>2022-08-10</td>\n",
       "      <td>1</td>\n",
       "    </tr>\n",
       "    <tr>\n",
       "      <th>329</th>\n",
       "      <td>2022-09-05</td>\n",
       "      <td>287.5</td>\n",
       "      <td>2022-09-06</td>\n",
       "      <td>1</td>\n",
       "    </tr>\n",
       "    <tr>\n",
       "      <th>330</th>\n",
       "      <td>2022-09-27</td>\n",
       "      <td>270.0</td>\n",
       "      <td>2022-09-28</td>\n",
       "      <td>1</td>\n",
       "    </tr>\n",
       "    <tr>\n",
       "      <th>331</th>\n",
       "      <td>2022-10-13</td>\n",
       "      <td>272.5</td>\n",
       "      <td>2022-10-14</td>\n",
       "      <td>1</td>\n",
       "    </tr>\n",
       "  </tbody>\n",
       "</table>\n",
       "<p>332 rows × 4 columns</p>\n",
       "</div>"
      ],
      "text/plain": [
       "         Start   Port        End Holdings\n",
       "0   2015-07-01  235.0 2015-07-02        1\n",
       "1   2015-08-07  222.5 2015-08-10        3\n",
       "2   2015-08-24  207.5 2015-08-26        2\n",
       "3   2015-08-24  212.5 2015-08-25        1\n",
       "4   2015-08-25  207.5 2015-08-26        1\n",
       "..         ...    ...        ...      ...\n",
       "327 2022-08-08  302.5 2022-08-09        1\n",
       "328 2022-08-09  307.5 2022-08-10        1\n",
       "329 2022-09-05  287.5 2022-09-06        1\n",
       "330 2022-09-27  270.0 2022-09-28        1\n",
       "331 2022-10-13  272.5 2022-10-14        1\n",
       "\n",
       "[332 rows x 4 columns]"
      ]
     },
     "execution_count": 25,
     "metadata": {},
     "output_type": "execute_result"
    }
   ],
   "source": [
    "s_list = []\n",
    "p_list = []\n",
    "e_list = []\n",
    "h_list = []\n",
    "\n",
    "for x in tqdm(init_port_list):\n",
    "    check = x\n",
    "\n",
    "    start_date = dt.datetime.strptime(check[0:8], '%Y%m%d')\n",
    "    \n",
    "    portfolio = float(check[8:])\n",
    "    \n",
    "    check_g = g_reg.loc[[portfolio]].T.loc[start_date:]\n",
    "    end_date = check_g.iloc[np.sort(np.append(np.where( (check_g >= 0) )[0], np.where(pd.isna(check_g) == True)[0]))].index[0]\n",
    "        \n",
    "    holding_date = int((end_date - start_date).days)\n",
    "\n",
    "    s_list.append(start_date)\n",
    "    p_list.append(portfolio)\n",
    "    e_list.append(end_date)\n",
    "    h_list.append(holding_date)\n",
    "    \n",
    "holding_reg = pd.DataFrame(np.array([s_list, p_list, e_list, h_list]).T, columns=['Start','Port','End','Holdings'])\n",
    "holding_reg"
   ]
  },
  {
   "cell_type": "code",
   "execution_count": 26,
   "metadata": {},
   "outputs": [
    {
     "data": {
      "text/html": [
       "<div>\n",
       "<style scoped>\n",
       "    .dataframe tbody tr th:only-of-type {\n",
       "        vertical-align: middle;\n",
       "    }\n",
       "\n",
       "    .dataframe tbody tr th {\n",
       "        vertical-align: top;\n",
       "    }\n",
       "\n",
       "    .dataframe thead th {\n",
       "        text-align: right;\n",
       "    }\n",
       "</style>\n",
       "<table border=\"1\" class=\"dataframe\">\n",
       "  <thead>\n",
       "    <tr style=\"text-align: right;\">\n",
       "      <th></th>\n",
       "      <th>Start</th>\n",
       "      <th>Port</th>\n",
       "      <th>End</th>\n",
       "      <th>Holdings</th>\n",
       "    </tr>\n",
       "  </thead>\n",
       "  <tbody>\n",
       "    <tr>\n",
       "      <th>12</th>\n",
       "      <td>2016-02-05</td>\n",
       "      <td>220.0</td>\n",
       "      <td>2016-02-11</td>\n",
       "      <td>6</td>\n",
       "    </tr>\n",
       "    <tr>\n",
       "      <th>56</th>\n",
       "      <td>2017-09-29</td>\n",
       "      <td>297.5</td>\n",
       "      <td>2017-10-10</td>\n",
       "      <td>11</td>\n",
       "    </tr>\n",
       "    <tr>\n",
       "      <th>213</th>\n",
       "      <td>2021-06-04</td>\n",
       "      <td>405.0</td>\n",
       "      <td>2021-06-10</td>\n",
       "      <td>6</td>\n",
       "    </tr>\n",
       "    <tr>\n",
       "      <th>250</th>\n",
       "      <td>2021-09-17</td>\n",
       "      <td>402.5</td>\n",
       "      <td>2021-09-23</td>\n",
       "      <td>6</td>\n",
       "    </tr>\n",
       "    <tr>\n",
       "      <th>271</th>\n",
       "      <td>2022-01-28</td>\n",
       "      <td>330.0</td>\n",
       "      <td>2022-02-03</td>\n",
       "      <td>6</td>\n",
       "    </tr>\n",
       "  </tbody>\n",
       "</table>\n",
       "</div>"
      ],
      "text/plain": [
       "         Start   Port        End Holdings\n",
       "12  2016-02-05  220.0 2016-02-11        6\n",
       "56  2017-09-29  297.5 2017-10-10       11\n",
       "213 2021-06-04  405.0 2021-06-10        6\n",
       "250 2021-09-17  402.5 2021-09-23        6\n",
       "271 2022-01-28  330.0 2022-02-03        6"
      ]
     },
     "execution_count": 26,
     "metadata": {},
     "output_type": "execute_result"
    }
   ],
   "source": [
    "holding_reg.iloc[np.where(holding_reg.Holdings > 5)[0]]"
   ]
  },
  {
   "cell_type": "code",
   "execution_count": 27,
   "metadata": {},
   "outputs": [
    {
     "data": {
      "text/plain": [
       "count    332.000000\n",
       "mean       1.575301\n",
       "std        1.135951\n",
       "min        1.000000\n",
       "25%        1.000000\n",
       "50%        1.000000\n",
       "75%        2.000000\n",
       "max       11.000000\n",
       "Name: Holdings, dtype: float64"
      ]
     },
     "execution_count": 27,
     "metadata": {},
     "output_type": "execute_result"
    }
   ],
   "source": [
    "holding_reg.Holdings.astype(int).describe()"
   ]
  },
  {
   "cell_type": "code",
   "execution_count": 217,
   "metadata": {},
   "outputs": [
    {
     "data": {
      "text/html": [
       "<div>\n",
       "<style scoped>\n",
       "    .dataframe tbody tr th:only-of-type {\n",
       "        vertical-align: middle;\n",
       "    }\n",
       "\n",
       "    .dataframe tbody tr th {\n",
       "        vertical-align: top;\n",
       "    }\n",
       "\n",
       "    .dataframe thead th {\n",
       "        text-align: right;\n",
       "    }\n",
       "</style>\n",
       "<table border=\"1\" class=\"dataframe\">\n",
       "  <thead>\n",
       "    <tr style=\"text-align: right;\">\n",
       "      <th></th>\n",
       "      <th>Start</th>\n",
       "      <th>Port</th>\n",
       "      <th>End</th>\n",
       "      <th>Holdings</th>\n",
       "    </tr>\n",
       "  </thead>\n",
       "  <tbody>\n",
       "    <tr>\n",
       "      <th>119</th>\n",
       "      <td>2020-03-12</td>\n",
       "      <td>232.5</td>\n",
       "      <td>2020-03-13</td>\n",
       "      <td>1</td>\n",
       "    </tr>\n",
       "    <tr>\n",
       "      <th>120</th>\n",
       "      <td>2020-03-12</td>\n",
       "      <td>240.0</td>\n",
       "      <td>2020-03-13</td>\n",
       "      <td>1</td>\n",
       "    </tr>\n",
       "    <tr>\n",
       "      <th>121</th>\n",
       "      <td>2020-03-13</td>\n",
       "      <td>227.5</td>\n",
       "      <td>2020-03-16</td>\n",
       "      <td>3</td>\n",
       "    </tr>\n",
       "    <tr>\n",
       "      <th>122</th>\n",
       "      <td>2020-03-16</td>\n",
       "      <td>217.5</td>\n",
       "      <td>2020-03-17</td>\n",
       "      <td>1</td>\n",
       "    </tr>\n",
       "    <tr>\n",
       "      <th>123</th>\n",
       "      <td>2020-03-17</td>\n",
       "      <td>210.0</td>\n",
       "      <td>2020-03-18</td>\n",
       "      <td>1</td>\n",
       "    </tr>\n",
       "    <tr>\n",
       "      <th>...</th>\n",
       "      <td>...</td>\n",
       "      <td>...</td>\n",
       "      <td>...</td>\n",
       "      <td>...</td>\n",
       "    </tr>\n",
       "    <tr>\n",
       "      <th>327</th>\n",
       "      <td>2022-08-08</td>\n",
       "      <td>302.5</td>\n",
       "      <td>2022-08-09</td>\n",
       "      <td>1</td>\n",
       "    </tr>\n",
       "    <tr>\n",
       "      <th>328</th>\n",
       "      <td>2022-08-09</td>\n",
       "      <td>307.5</td>\n",
       "      <td>2022-08-10</td>\n",
       "      <td>1</td>\n",
       "    </tr>\n",
       "    <tr>\n",
       "      <th>329</th>\n",
       "      <td>2022-09-05</td>\n",
       "      <td>287.5</td>\n",
       "      <td>2022-09-06</td>\n",
       "      <td>1</td>\n",
       "    </tr>\n",
       "    <tr>\n",
       "      <th>330</th>\n",
       "      <td>2022-09-27</td>\n",
       "      <td>270.0</td>\n",
       "      <td>2022-09-28</td>\n",
       "      <td>1</td>\n",
       "    </tr>\n",
       "    <tr>\n",
       "      <th>331</th>\n",
       "      <td>2022-10-13</td>\n",
       "      <td>272.5</td>\n",
       "      <td>2022-10-14</td>\n",
       "      <td>1</td>\n",
       "    </tr>\n",
       "  </tbody>\n",
       "</table>\n",
       "<p>213 rows × 4 columns</p>\n",
       "</div>"
      ],
      "text/plain": [
       "         Start   Port        End Holdings\n",
       "119 2020-03-12  232.5 2020-03-13        1\n",
       "120 2020-03-12  240.0 2020-03-13        1\n",
       "121 2020-03-13  227.5 2020-03-16        3\n",
       "122 2020-03-16  217.5 2020-03-17        1\n",
       "123 2020-03-17  210.0 2020-03-18        1\n",
       "..         ...    ...        ...      ...\n",
       "327 2022-08-08  302.5 2022-08-09        1\n",
       "328 2022-08-09  307.5 2022-08-10        1\n",
       "329 2022-09-05  287.5 2022-09-06        1\n",
       "330 2022-09-27  270.0 2022-09-28        1\n",
       "331 2022-10-13  272.5 2022-10-14        1\n",
       "\n",
       "[213 rows x 4 columns]"
      ]
     },
     "execution_count": 217,
     "metadata": {},
     "output_type": "execute_result"
    }
   ],
   "source": [
    "holding_reg[holding_reg.End >= '2020-03-10']"
   ]
  },
  {
   "cell_type": "code",
   "execution_count": 28,
   "metadata": {},
   "outputs": [
    {
     "data": {
      "image/png": "[encoded data removed]",
      "text/plain": [
       "<Figure size 640x480 with 1 Axes>"
      ]
     },
     "metadata": {},
     "output_type": "display_data"
    }
   ],
   "source": [
    "plt.title('Arbitrage Holding Periods')\n",
    "plt.hist(holding_reg.Holdings, bins=20)\n",
    "plt.show()"
   ]
  },
  {
   "cell_type": "code",
   "execution_count": null,
   "metadata": {},
   "outputs": [],
   "source": [
    "100 * 0.078"
   ]
  },
  {
   "cell_type": "code",
   "execution_count": 86,
   "metadata": {},
   "outputs": [
    {
     "data": {
      "text/html": [
       "<div>\n",
       "<style scoped>\n",
       "    .dataframe tbody tr th:only-of-type {\n",
       "        vertical-align: middle;\n",
       "    }\n",
       "\n",
       "    .dataframe tbody tr th {\n",
       "        vertical-align: top;\n",
       "    }\n",
       "\n",
       "    .dataframe thead th {\n",
       "        text-align: right;\n",
       "    }\n",
       "</style>\n",
       "<table border=\"1\" class=\"dataframe\">\n",
       "  <thead>\n",
       "    <tr style=\"text-align: right;\">\n",
       "      <th></th>\n",
       "      <th>Start</th>\n",
       "      <th>Port</th>\n",
       "      <th>End</th>\n",
       "      <th>Holdings</th>\n",
       "    </tr>\n",
       "  </thead>\n",
       "  <tbody>\n",
       "  </tbody>\n",
       "</table>\n",
       "</div>"
      ],
      "text/plain": [
       "Empty DataFrame\n",
       "Columns: [Start, Port, End, Holdings]\n",
       "Index: []"
      ]
     },
     "execution_count": 86,
     "metadata": {},
     "output_type": "execute_result"
    }
   ],
   "source": [
    "holding_reg[holding_reg.Start=='2022-06-19']"
   ]
  },
  {
   "cell_type": "code",
   "execution_count": 76,
   "metadata": {},
   "outputs": [
    {
     "data": {
      "text/html": [
       "<div>\n",
       "<style scoped>\n",
       "    .dataframe tbody tr th:only-of-type {\n",
       "        vertical-align: middle;\n",
       "    }\n",
       "\n",
       "    .dataframe tbody tr th {\n",
       "        vertical-align: top;\n",
       "    }\n",
       "\n",
       "    .dataframe thead th {\n",
       "        text-align: right;\n",
       "    }\n",
       "</style>\n",
       "<table border=\"1\" class=\"dataframe\">\n",
       "  <thead>\n",
       "    <tr style=\"text-align: right;\">\n",
       "      <th></th>\n",
       "      <th>Start</th>\n",
       "      <th>Port</th>\n",
       "      <th>End</th>\n",
       "      <th>Holdings</th>\n",
       "    </tr>\n",
       "  </thead>\n",
       "  <tbody>\n",
       "  </tbody>\n",
       "</table>\n",
       "</div>"
      ],
      "text/plain": [
       "Empty DataFrame\n",
       "Columns: [Start, Port, End, Holdings]\n",
       "Index: []"
      ]
     },
     "execution_count": 76,
     "metadata": {},
     "output_type": "execute_result"
    }
   ],
   "source": [
    "holding_reg[holding_reg.Start=='2020-03-11']"
   ]
  },
  {
   "cell_type": "code",
   "execution_count": 75,
   "metadata": {},
   "outputs": [
    {
     "data": {
      "text/html": [
       "<div>\n",
       "<style scoped>\n",
       "    .dataframe tbody tr th:only-of-type {\n",
       "        vertical-align: middle;\n",
       "    }\n",
       "\n",
       "    .dataframe tbody tr th {\n",
       "        vertical-align: top;\n",
       "    }\n",
       "\n",
       "    .dataframe thead th {\n",
       "        text-align: right;\n",
       "    }\n",
       "</style>\n",
       "<table border=\"1\" class=\"dataframe\">\n",
       "  <thead>\n",
       "    <tr style=\"text-align: right;\">\n",
       "      <th></th>\n",
       "      <th>Start</th>\n",
       "      <th>Port</th>\n",
       "      <th>End</th>\n",
       "      <th>Holdings</th>\n",
       "    </tr>\n",
       "  </thead>\n",
       "  <tbody>\n",
       "    <tr>\n",
       "      <th>119</th>\n",
       "      <td>2020-03-12</td>\n",
       "      <td>232.5</td>\n",
       "      <td>2020-03-13</td>\n",
       "      <td>1</td>\n",
       "    </tr>\n",
       "    <tr>\n",
       "      <th>120</th>\n",
       "      <td>2020-03-12</td>\n",
       "      <td>240.0</td>\n",
       "      <td>2020-03-13</td>\n",
       "      <td>1</td>\n",
       "    </tr>\n",
       "  </tbody>\n",
       "</table>\n",
       "</div>"
      ],
      "text/plain": [
       "         Start   Port        End Holdings\n",
       "119 2020-03-12  232.5 2020-03-13        1\n",
       "120 2020-03-12  240.0 2020-03-13        1"
      ]
     },
     "execution_count": 75,
     "metadata": {},
     "output_type": "execute_result"
    }
   ],
   "source": [
    "holding_reg[holding_reg.Start=='2020-03-12']"
   ]
  },
  {
   "cell_type": "code",
   "execution_count": 82,
   "metadata": {},
   "outputs": [
    {
     "data": {
      "text/plain": [
       "207.5     5.02\n",
       "210.0     5.57\n",
       "212.5     6.08\n",
       "215.0     6.61\n",
       "217.5     7.11\n",
       "220.0     7.84\n",
       "222.5     8.61\n",
       "225.0     9.28\n",
       "227.5       10\n",
       "230.0       11\n",
       "232.5     11.8\n",
       "235.0    12.75\n",
       "237.5     13.7\n",
       "240.0     15.7\n",
       "Name: 2020-03-13 00:00:00, dtype: object"
      ]
     },
     "execution_count": 82,
     "metadata": {},
     "output_type": "execute_result"
    }
   ],
   "source": [
    "p_reg['2020-03-13'].dropna()"
   ]
  },
  {
   "cell_type": "code",
   "execution_count": 151,
   "metadata": {},
   "outputs": [
    {
     "data": {
      "text/plain": [
       "207.5     5.02\n",
       "210.0     5.57\n",
       "212.5     6.08\n",
       "215.0     6.61\n",
       "217.5     7.11\n",
       "220.0     7.84\n",
       "222.5     8.61\n",
       "225.0     9.28\n",
       "227.5       10\n",
       "230.0       11\n",
       "232.5     11.8\n",
       "235.0    12.75\n",
       "237.5     13.7\n",
       "240.0     15.7\n",
       "Name: 2020-03-13 00:00:00, dtype: object"
      ]
     },
     "execution_count": 151,
     "metadata": {},
     "output_type": "execute_result"
    }
   ],
   "source": [
    "p_all_reg['2020-03-13'].dropna()"
   ]
  },
  {
   "cell_type": "code",
   "execution_count": 70,
   "metadata": {},
   "outputs": [
    {
     "data": {
      "text/html": [
       "<div>\n",
       "<style scoped>\n",
       "    .dataframe tbody tr th:only-of-type {\n",
       "        vertical-align: middle;\n",
       "    }\n",
       "\n",
       "    .dataframe tbody tr th {\n",
       "        vertical-align: top;\n",
       "    }\n",
       "\n",
       "    .dataframe thead th {\n",
       "        text-align: right;\n",
       "    }\n",
       "</style>\n",
       "<table border=\"1\" class=\"dataframe\">\n",
       "  <thead>\n",
       "    <tr style=\"text-align: right;\">\n",
       "      <th></th>\n",
       "      <th>Start</th>\n",
       "      <th>Port</th>\n",
       "      <th>End</th>\n",
       "      <th>Holdings</th>\n",
       "    </tr>\n",
       "  </thead>\n",
       "  <tbody>\n",
       "    <tr>\n",
       "      <th>125</th>\n",
       "      <td>2020-03-19</td>\n",
       "      <td>185.0</td>\n",
       "      <td>2020-03-20</td>\n",
       "      <td>1</td>\n",
       "    </tr>\n",
       "  </tbody>\n",
       "</table>\n",
       "</div>"
      ],
      "text/plain": [
       "         Start   Port        End Holdings\n",
       "125 2020-03-19  185.0 2020-03-20        1"
      ]
     },
     "execution_count": 70,
     "metadata": {},
     "output_type": "execute_result"
    }
   ],
   "source": [
    "holding_reg[holding_reg.Start=='2020-03-19']"
   ]
  },
  {
   "cell_type": "code",
   "execution_count": 42,
   "metadata": {},
   "outputs": [
    {
     "data": {
      "text/plain": [
       "0.03"
      ]
     },
     "execution_count": 42,
     "metadata": {},
     "output_type": "execute_result"
    }
   ],
   "source": [
    "#a = zip(holding_reg.Start, holding_reg.Port)\n",
    "#for x in a:\n",
    "#    print(x[0], x[1])\n",
    "p_reg.loc[235.0, '2015-07-01']"
   ]
  },
  {
   "cell_type": "code",
   "execution_count": null,
   "metadata": {},
   "outputs": [],
   "source": [
    "np.where()"
   ]
  },
  {
   "cell_type": "code",
   "execution_count": 31,
   "metadata": {},
   "outputs": [],
   "source": [
    "#for x in holding_reg.index:\n",
    "idx = 0\n",
    "aa = holding_reg.iloc[[idx]]\n",
    "\n",
    "s_d = aa['Start'].item()\n",
    "e_d = aa['End'].item()\n",
    "\n"
   ]
  }
 ],
 "metadata": {
  "kernelspec": {
   "display_name": "quant",
   "language": "python",
   "name": "python3"
  },
  "language_info": {
   "codemirror_mode": {
    "name": "ipython",
    "version": 3
   },
   "file_extension": ".py",
   "mimetype": "text/x-python",
   "name": "python",
   "nbconvert_exporter": "python",
   "pygments_lexer": "ipython3",
   "version": "3.8.13"
  },
  "orig_nbformat": 4
 },
 "nbformat": 4,
 "nbformat_minor": 2
}
