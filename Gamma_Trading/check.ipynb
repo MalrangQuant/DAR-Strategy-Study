{
 "cells": [
  {
   "cell_type": "code",
   "execution_count": 1,
   "metadata": {},
   "outputs": [
    {
     "name": "stdout",
     "output_type": "stream",
     "text": [
      "Collecting py_vollib\n",
      "  Downloading py_vollib-1.0.1.tar.gz (19 kB)\n",
      "  Preparing metadata (setup.py) ... \u001b[?25ldone\n",
      "\u001b[?25hCollecting py_lets_be_rational\n",
      "  Downloading py_lets_be_rational-1.0.1.tar.gz (18 kB)\n",
      "  Preparing metadata (setup.py) ... \u001b[?25ldone\n",
      "\u001b[?25hCollecting simplejson\n",
      "  Downloading simplejson-3.19.1-cp38-cp38-macosx_11_0_arm64.whl (74 kB)\n",
      "\u001b[2K     \u001b[90m━━━━━━━━━━━━━━━━━━━━━━━━━━━━━━━━━━━━━━━\u001b[0m \u001b[32m74.9/74.9 kB\u001b[0m \u001b[31m462.3 kB/s\u001b[0m eta \u001b[36m0:00:00\u001b[0ma \u001b[36m0:00:01\u001b[0m\n",
      "\u001b[?25hRequirement already satisfied: numpy in /opt/homebrew/Caskroom/miniforge/base/envs/quant/lib/python3.8/site-packages (from py_vollib) (1.22.3)\n",
      "Requirement already satisfied: pandas in /opt/homebrew/Caskroom/miniforge/base/envs/quant/lib/python3.8/site-packages (from py_vollib) (1.4.3)\n",
      "Requirement already satisfied: scipy in /opt/homebrew/Caskroom/miniforge/base/envs/quant/lib/python3.8/site-packages (from py_vollib) (1.9.3)\n",
      "Requirement already satisfied: python-dateutil>=2.8.1 in /opt/homebrew/Caskroom/miniforge/base/envs/quant/lib/python3.8/site-packages (from pandas->py_vollib) (2.8.2)\n",
      "Requirement already satisfied: pytz>=2020.1 in /opt/homebrew/Caskroom/miniforge/base/envs/quant/lib/python3.8/site-packages (from pandas->py_vollib) (2022.1)\n",
      "Requirement already satisfied: six>=1.5 in /opt/homebrew/Caskroom/miniforge/base/envs/quant/lib/python3.8/site-packages (from python-dateutil>=2.8.1->pandas->py_vollib) (1.16.0)\n",
      "Building wheels for collected packages: py_vollib, py_lets_be_rational\n",
      "  Building wheel for py_vollib (setup.py) ... \u001b[?25ldone\n",
      "\u001b[?25h  Created wheel for py_vollib: filename=py_vollib-1.0.1-py3-none-any.whl size=62830 sha256=02e6d871b212e22e3a41b99d3a74e3b9ec704945243dc321d598d247df8effa6\n",
      "  Stored in directory: /Users/Sun/Library/Caches/pip/wheels/38/8d/d9/a680031767bd6a3d734fc7c48a75767591795e47ac66ca143c\n",
      "  Building wheel for py_lets_be_rational (setup.py) ... \u001b[?25ldone\n",
      "\u001b[?25h  Created wheel for py_lets_be_rational: filename=py_lets_be_rational-1.0.1-py3-none-any.whl size=24452 sha256=98ae44a49e1f176ae74fa83111e37904fac0024e3e296823878b70bece6fcef4\n",
      "  Stored in directory: /Users/Sun/Library/Caches/pip/wheels/e6/67/1e/93e41aebf34e4fd3cb02a865e9c782c9edaac5051f15a01d2e\n",
      "Successfully built py_vollib py_lets_be_rational\n",
      "Installing collected packages: simplejson, py_lets_be_rational, py_vollib\n",
      "Successfully installed py_lets_be_rational-1.0.1 py_vollib-1.0.1 simplejson-3.19.1\n"
     ]
    }
   ],
   "source": [
    "!pip install py_vollib"
   ]
  },
  {
   "cell_type": "code",
   "execution_count": 5,
   "metadata": {},
   "outputs": [],
   "source": [
    "\n",
    "import numpy as np\n",
    "from scipy.stats import norm\n",
    "from py_vollib.black_scholes import black_scholes as bs\n",
    "from py_vollib.black_scholes.greeks.analytical import delta, gamma, vega, theta, rho\n",
    "\n",
    "r = 0.05\n",
    "S = 49\n",
    "K = 50\n",
    "T = 140/365\n",
    "sigma = 0.20\n",
    "def blackScholes(r, S, K, T, sigma, type):\n",
    "    \"Calculate BS price of call/put\"\n",
    "    d1 = (np.log(S/K) + (r + sigma**2/2)*T)/(sigma*np.sqrt(T))\n",
    "    d2 = d1 - sigma*np.sqrt(T)\n",
    "    try:\n",
    "        if type == \"c\":\n",
    "            price = S*norm.cdf(d1, 0, 1) - K*np.exp(-r*T)*norm.cdf(d2, 0, 1)\n",
    "        elif type == \"p\":\n",
    "            price = K*np.exp(-r*T)*norm.cdf(-d2, 0, 1) - S*norm.cdf(-d1, 0, 1)\n",
    "        return price, bs(type, S, K, T, r, sigma)\n",
    "    except:\n",
    "        print(\"Please confirm option type, either 'c' for Call or 'p' for Put!\")\n",
    "\n",
    "#**Delta:** measures the rate of change of the theoretical option value with respect to changes in the underlying asset’s price.\n",
    "\n",
    "#$\\Delta = \\frac{\\partial V}{\\partial S}$\n",
    "\n",
    "#$\\Delta_{call} = \\Phi(d1)$\n",
    "\n",
    "#$\\Delta_{put} = -\\Phi(-d1)$\n",
    "#\n",
    "\n",
    "def delta_calc(r, S, K, T, sigma, type):\n",
    "    \"Calculate delta of an option\"\n",
    "    d1 = (np.log(S/K) + (r + sigma**2/2)*T)/(sigma*np.sqrt(T))\n",
    "    try:\n",
    "        if type == \"c\":\n",
    "            delta_calc = norm.cdf(d1, 0, 1)\n",
    "        elif type == \"p\":\n",
    "            delta_calc = -norm.cdf(-d1, 0, 1)\n",
    "        return delta_calc, delta(type, S, K, T, r, sigma)\n",
    "    except:\n",
    "        print(\"Please confirm option type, either 'c' for Call or 'p' for Put!\")\n",
    "\n",
    "#**Gamma:** measures the rate of change in the delta with respect to changes in the underlying price.\n",
    "\n",
    "#$\\Gamma = \\frac{\\partial \\Delta}{\\partial S} = \\frac{\\partial^2 V}{\\partial S^2}$\n",
    "\n",
    "#$\\Gamma = \\frac{\\phi(d1)}{S\\sigma\\sqrt{\\tau}}$\n",
    "#\n",
    "\n",
    "def gamma_calc(r, S, K, T, sigma, type):\n",
    "    \"Calculate gamma of a option\"\n",
    "    d1 = (np.log(S/K) + (r + sigma**2/2)*T)/(sigma*np.sqrt(T))\n",
    "    d2 = d1 - sigma*np.sqrt(T)\n",
    "    try:\n",
    "        gamma_calc = norm.pdf(d1, 0, 1)/(S*sigma*np.sqrt(T))\n",
    "        return gamma_calc, gamma(type, S, K, T, r, sigma)\n",
    "    except:\n",
    "        print(\"Please confirm option type, either 'c' for Call or 'p' for Put!\")\n",
    "\n",
    "#**Vega:** measures sensitivity to volatility. Vega is the derivative of the option value with respect to the volatility of the underlying asset.\n",
    "\n",
    "#$\\upsilon = \\frac{\\partial V}{\\partial \\sigma}$\n",
    "\n",
    "#$\\upsilon = S\\phi(d1)\\sqrt{\\tau}$\n",
    "#\n",
    "\n",
    "def vega_calc(r, S, K, T, sigma, type=\"c\"):\n",
    "    \"Calculate BS price of call/put\"\n",
    "    d1 = (np.log(S/K) + (r + sigma**2/2)*T)/(sigma*np.sqrt(T))\n",
    "    d2 = d1 - sigma*np.sqrt(T)\n",
    "    try:\n",
    "        vega_calc = S*norm.pdf(d1, 0, 1)*np.sqrt(T)\n",
    "        return vega_calc*0.01, vega(type, S, K, T, r, sigma)\n",
    "    except:\n",
    "        print(\"Please confirm option type, either 'c' for Call or 'p' for Put!\")\n",
    "\n",
    "#**Theta:** measures the sensitivity of the value of the derivative to the passage of time – time decay.\n",
    "\n",
    "#$\\Theta = -\\frac{\\partial V}{\\partial \\tau}$\n",
    "\n",
    "#$\\Theta_{call} = -\\frac{S\\phi(d1)\\sigma}{2\\tau} – rK\\exp{(-rT)}\\Phi(d2)$\n",
    "\n",
    "#$\\Theta_{put} = -\\frac{S\\phi(d1)\\sigma}{2\\tau} + rK\\exp{(-rT)}\\Phi(-d2)$\n",
    "#\n",
    "\n",
    "def theta_calc(r, S, K, T, sigma, type):\n",
    "    \"Calculate BS price of call/put\"\n",
    "    d1 = (np.log(S/K) + (r + sigma**2/2)*T)/(sigma*np.sqrt(T))\n",
    "    d2 = d1 - sigma*np.sqrt(T)\n",
    "    try:\n",
    "        if type == \"c\":\n",
    "            theta_calc = -S*norm.pdf(d1, 0, 1)*sigma/(2*np.sqrt(T)) - r*K*np.exp(-r*T)*norm.cdf(d2, 0, 1)\n",
    "        elif type == \"p\":\n",
    "            theta_calc = -S*norm.pdf(d1, 0, 1)*sigma/(2*np.sqrt(T)) + r*K*np.exp(-r*T)*norm.cdf(-d2, 0, 1)\n",
    "        return theta_calc/365, theta(type, S, K, T, r, sigma)\n",
    "    except:\n",
    "        print(\"Please confirm option type, either 'c' for Call or 'p' for Put!\")\n",
    "\n",
    "#Rho measures the sensitivity to the interest rate.\n",
    "\n",
    "#$\\rho = \\frac{\\partial V}{\\partial r}$\n",
    "\n",
    "#$\\rho_{call} = K\\tau\\exp{(-rT)}\\Phi(d2)$\n",
    "\n",
    "#$\\rho_{put} = -K\\tau\\exp{(-rT)}\\Phi(-d2)$\n",
    "#\n",
    "\n",
    "def rho_calc(r, S, K, T, sigma, type):\n",
    "    \"Calculate BS price of call/put\"\n",
    "    d1 = (np.log(S/K) + (r + sigma**2/2)*T)/(sigma*np.sqrt(T))\n",
    "    d2 = d1 - sigma*np.sqrt(T)\n",
    "    try:\n",
    "        if type == \"c\":\n",
    "            rho_calc = K*T*np.exp(-r*T)*norm.cdf(d2, 0, 1)\n",
    "        elif type == \"p\":\n",
    "            rho_calc = -K*T*np.exp(-r*T)*norm.cdf(-d2, 0, 1)\n",
    "        return rho_calc*0.01, rho(type, S, K, T, r, sigma)\n",
    "    except:\n",
    "        print(\"Please confirm option type, either 'c' for Call or 'p' for Put!\")\n"
   ]
  },
  {
   "cell_type": "code",
   "execution_count": 6,
   "metadata": {},
   "outputs": [],
   "source": [
    "option_type=input('option_type= ')"
   ]
  },
  {
   "cell_type": "code",
   "execution_count": 7,
   "metadata": {},
   "outputs": [
    {
     "name": "stdout",
     "output_type": "stream",
     "text": [
      "Under the condition: r = 0.05\n",
      "                     S = 49\n",
      "                     K = 50\n",
      "                     T = 140/365\n",
      "                     sigma = 0.20\n",
      "Option Price:  [2.396, 2.396]\n",
      "       Delta:  [0.521, 0.521]\n",
      "       Gamma:  [0.066, 0.066]\n",
      "       Vega :  [0.121, 0.121]\n",
      "       Theta:  [-0.012, -0.012]\n",
      "       Rho  :  [0.089, 0.089]\n"
     ]
    },
    {
     "data": {
      "text/plain": [
       "'***Option price & Greeks calculator***'"
      ]
     },
     "execution_count": 7,
     "metadata": {},
     "output_type": "execute_result"
    }
   ],
   "source": [
    "print(\"\"\"Under the condition: r = 0.05\n",
    "                     S = 49\n",
    "                     K = 50\n",
    "                     T = 140/365\n",
    "                     sigma = 0.20\"\"\")\n",
    "print(\"Option Price: \", [round(x,3) for x in blackScholes(r, S, K, T, sigma, option_type)])\n",
    "print(\"       Delta: \", [round(x,3) for x in delta_calc(r, S, K, T, sigma, option_type)])\n",
    "print(\"       Gamma: \", [round(x,3) for x in gamma_calc(r, S, K, T, sigma, option_type)])\n",
    "print(\"       Vega : \", [round(x,3) for x in vega_calc(r, S, K, T, sigma, option_type)])\n",
    "print(\"       Theta: \", [round(x,3) for x in theta_calc(r, S, K, T, sigma, option_type)])\n",
    "print(\"       Rho  : \", [round(x,3) for x in rho_calc(r, S, K, T, sigma, option_type)])\n",
    "\n",
    "\"\"\"***Option price & Greeks calculator***\"\"\""
   ]
  },
  {
   "cell_type": "code",
   "execution_count": 9,
   "metadata": {},
   "outputs": [
    {
     "ename": "ValueError",
     "evalue": "could not convert string to float: 'd'",
     "output_type": "error",
     "traceback": [
      "\u001b[0;31m---------------------------------------------------------------------------\u001b[0m",
      "\u001b[0;31mValueError\u001b[0m                                Traceback (most recent call last)",
      "\u001b[1;32m/Users/Sun/Documents/Github/DAR-Strategy-Study/Gamma_Trading/check.ipynb 셀 5\u001b[0m in \u001b[0;36m<cell line: 2>\u001b[0;34m()\u001b[0m\n\u001b[1;32m      <a href='vscode-notebook-cell:/Users/Sun/Documents/Github/DAR-Strategy-Study/Gamma_Trading/check.ipynb#W5sZmlsZQ%3D%3D?line=0'>1</a>\u001b[0m option_type\u001b[39m=\u001b[39m\u001b[39minput\u001b[39m(\u001b[39m'\u001b[39m\u001b[39moption_type= \u001b[39m\u001b[39m'\u001b[39m)\n\u001b[0;32m----> <a href='vscode-notebook-cell:/Users/Sun/Documents/Github/DAR-Strategy-Study/Gamma_Trading/check.ipynb#W5sZmlsZQ%3D%3D?line=1'>2</a>\u001b[0m r\u001b[39m=\u001b[39m\u001b[39mfloat\u001b[39;49m(\u001b[39minput\u001b[39;49m(\u001b[39m'\u001b[39;49m\u001b[39minterest rate= \u001b[39;49m\u001b[39m'\u001b[39;49m))\n\u001b[1;32m      <a href='vscode-notebook-cell:/Users/Sun/Documents/Github/DAR-Strategy-Study/Gamma_Trading/check.ipynb#W5sZmlsZQ%3D%3D?line=2'>3</a>\u001b[0m S\u001b[39m=\u001b[39m\u001b[39mfloat\u001b[39m(\u001b[39minput\u001b[39m(\u001b[39m'\u001b[39m\u001b[39mspot price= \u001b[39m\u001b[39m'\u001b[39m))\n\u001b[1;32m      <a href='vscode-notebook-cell:/Users/Sun/Documents/Github/DAR-Strategy-Study/Gamma_Trading/check.ipynb#W5sZmlsZQ%3D%3D?line=3'>4</a>\u001b[0m K\u001b[39m=\u001b[39m\u001b[39mfloat\u001b[39m(\u001b[39minput\u001b[39m(\u001b[39m'\u001b[39m\u001b[39mstrike price= \u001b[39m\u001b[39m'\u001b[39m))\n",
      "\u001b[0;31mValueError\u001b[0m: could not convert string to float: 'd'"
     ]
    }
   ],
   "source": [
    "option_type=input('option_type= ')\n",
    "r=float(input('interest rate= '))\n",
    "S=float(input('spot price= '))\n",
    "K=float(input('strike price= '))\n",
    "T_raw=input('time (days/365)= ')\n",
    "a, b = T_raw.split('/')\n",
    "T=int(a)/int(b)\n",
    "sigma=float(input('volatility= '))"
   ]
  },
  {
   "cell_type": "code",
   "execution_count": null,
   "metadata": {},
   "outputs": [],
   "source": [
    "r=float(input('interest rate= '))\n",
    "S=float(input('spot price= '))\n",
    "K=float(input('strike price= '))\n",
    "T_raw=input('time (days/365)= ')\n",
    "a, b = T_raw.split('/')\n",
    "T=int(a)/int(b)\n",
    "sigma=float(input('volatility= '))\n",
    "print(\"Under the condition: r = \"+str(r))\n",
    "print(\"                     S = \"+str(S))\n",
    "print(\"                     K = \"+str(K))\n",
    "print(\"                     T = \"+str(T_raw))\n",
    "print(\"                     sigma = \"+str(sigma))\n",
    "print(\"Option Price: \", [round(x,3) for x in blackScholes(r, S, K, T, sigma, option_type)])\n",
    "print(\"       Delta: \", [round(x,3) for x in delta_calc(r, S, K, T, sigma, option_type)])\n",
    "print(\"       Gamma: \", [round(x,3) for x in gamma_calc(r, S, K, T, sigma, option_type)])\n",
    "print(\"       Vega : \", [round(x,3) for x in vega_calc(r, S, K, T, sigma, option_type)])\n",
    "print(\"       Theta: \", [round(x,3) for x in theta_calc(r, S, K, T, sigma, option_type)])\n",
    "print(\"       Rho  : \", [round(x,3) for x in rho_calc(r, S, K, T, sigma, option_type)])"
   ]
  }
 ],
 "metadata": {
  "kernelspec": {
   "display_name": "quant",
   "language": "python",
   "name": "python3"
  },
  "language_info": {
   "codemirror_mode": {
    "name": "ipython",
    "version": 3
   },
   "file_extension": ".py",
   "mimetype": "text/x-python",
   "name": "python",
   "nbconvert_exporter": "python",
   "pygments_lexer": "ipython3",
   "version": "3.8.13"
  },
  "orig_nbformat": 4
 },
 "nbformat": 4,
 "nbformat_minor": 2
}
